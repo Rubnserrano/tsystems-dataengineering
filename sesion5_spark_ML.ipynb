{
 "cells": [
  {
   "cell_type": "code",
   "execution_count": 1,
   "id": "6a1b1afa-6e1c-4e17-abd1-7b8257fb3442",
   "metadata": {},
   "outputs": [],
   "source": [
    "from pyspark.sql import SparkSession\n",
    "\n",
    "spark = SparkSession \\\n",
    "    .builder \\\n",
    "    .master(\"local[*]\") \\\n",
    "    .appName(\"T-systems: quinta sesion. MLib\") \\\n",
    "    .getOrCreate()\n",
    "\n",
    "sc = spark.sparkContext"
   ]
  },
  {
   "cell_type": "markdown",
   "id": "b69eb6bc-224e-4528-a62b-0967ca2fe8eb",
   "metadata": {},
   "source": [
    "# Ejecutar modelos ML en distribuido haciendo soluciones locales + ensemble"
   ]
  },
  {
   "cell_type": "code",
   "execution_count": 2,
   "id": "45c9ee88-3a1a-417d-9b21-04538a6a11ab",
   "metadata": {},
   "outputs": [],
   "source": [
    "df = spark.read.csv(\"C:\\\\Users\\\\ruben\\\\Desktop\\\\data engineering\\\\s5-pysparkML\\\\results.csv\", header = True)"
   ]
  },
  {
   "cell_type": "code",
   "execution_count": 3,
   "id": "f8cfdecf-9851-492e-80a9-fd26abe19dc5",
   "metadata": {},
   "outputs": [],
   "source": [
    "import pyspark.sql.functions as sql_f"
   ]
  },
  {
   "cell_type": "code",
   "execution_count": 4,
   "id": "2f743f1c-e3e4-43ce-82a6-8ff3591b0586",
   "metadata": {},
   "outputs": [],
   "source": [
    "df = df.select([sql_f.col(c).cast('float') for c in ['Ex01','Ex02','Ex03','Ex04','Project','Total']])"
   ]
  },
  {
   "cell_type": "code",
   "execution_count": 5,
   "id": "9d153b3c-2407-4d1d-85da-3f912db26475",
   "metadata": {},
   "outputs": [
    {
     "name": "stdout",
     "output_type": "stream",
     "text": [
      "+-----+-----+-----+----+-------+-----+\n",
      "| Ex01| Ex02| Ex03|Ex04|Project|Total|\n",
      "+-----+-----+-----+----+-------+-----+\n",
      "|100.0| 85.0| 80.0|70.0|   80.0| 81.0|\n",
      "|100.0| 85.0| 80.0|90.0|   93.0| 79.0|\n",
      "|100.0|100.0| 85.0|30.0|   70.0| 42.0|\n",
      "| 95.0| 95.0|100.0|55.0|   87.0| 67.0|\n",
      "| 65.0| 95.0| 65.0|25.0|   70.0| 39.0|\n",
      "+-----+-----+-----+----+-------+-----+\n",
      "only showing top 5 rows\n",
      "\n"
     ]
    }
   ],
   "source": [
    "df.show(5)"
   ]
  },
  {
   "cell_type": "code",
   "execution_count": 6,
   "id": "97cf5ac3-05eb-44d7-bd30-375404e5c37e",
   "metadata": {},
   "outputs": [],
   "source": [
    "# convertimos en problema de clasificación"
   ]
  },
  {
   "cell_type": "code",
   "execution_count": 7,
   "id": "8bad0d02-21b2-4b7b-8ac5-15a15d627e58",
   "metadata": {},
   "outputs": [],
   "source": [
    "df = df.withColumn(\"Classification\",\n",
    "                   sql_f.when(df.Total<70, \"not-first\")\\\n",
    "                   .otherwise(\"first\"))"
   ]
  },
  {
   "cell_type": "code",
   "execution_count": 8,
   "id": "a745094d-1b4b-4125-a6b4-82dfbf46e186",
   "metadata": {},
   "outputs": [
    {
     "name": "stdout",
     "output_type": "stream",
     "text": [
      "+-----+-----+-----+----+-------+-----+--------------+\n",
      "| Ex01| Ex02| Ex03|Ex04|Project|Total|Classification|\n",
      "+-----+-----+-----+----+-------+-----+--------------+\n",
      "|100.0| 85.0| 80.0|70.0|   80.0| 81.0|         first|\n",
      "|100.0| 85.0| 80.0|90.0|   93.0| 79.0|         first|\n",
      "|100.0|100.0| 85.0|30.0|   70.0| 42.0|     not-first|\n",
      "| 95.0| 95.0|100.0|55.0|   87.0| 67.0|     not-first|\n",
      "| 65.0| 95.0| 65.0|25.0|   70.0| 39.0|     not-first|\n",
      "+-----+-----+-----+----+-------+-----+--------------+\n",
      "only showing top 5 rows\n",
      "\n"
     ]
    }
   ],
   "source": [
    "df.show(5)"
   ]
  },
  {
   "cell_type": "code",
   "execution_count": 9,
   "id": "879eb8a3-832f-4188-a6fb-3eced3f12a4b",
   "metadata": {},
   "outputs": [
    {
     "data": {
      "text/html": [
       "<style>#sk-container-id-1 {color: black;}#sk-container-id-1 pre{padding: 0;}#sk-container-id-1 div.sk-toggleable {background-color: white;}#sk-container-id-1 label.sk-toggleable__label {cursor: pointer;display: block;width: 100%;margin-bottom: 0;padding: 0.3em;box-sizing: border-box;text-align: center;}#sk-container-id-1 label.sk-toggleable__label-arrow:before {content: \"▸\";float: left;margin-right: 0.25em;color: #696969;}#sk-container-id-1 label.sk-toggleable__label-arrow:hover:before {color: black;}#sk-container-id-1 div.sk-estimator:hover label.sk-toggleable__label-arrow:before {color: black;}#sk-container-id-1 div.sk-toggleable__content {max-height: 0;max-width: 0;overflow: hidden;text-align: left;background-color: #f0f8ff;}#sk-container-id-1 div.sk-toggleable__content pre {margin: 0.2em;color: black;border-radius: 0.25em;background-color: #f0f8ff;}#sk-container-id-1 input.sk-toggleable__control:checked~div.sk-toggleable__content {max-height: 200px;max-width: 100%;overflow: auto;}#sk-container-id-1 input.sk-toggleable__control:checked~label.sk-toggleable__label-arrow:before {content: \"▾\";}#sk-container-id-1 div.sk-estimator input.sk-toggleable__control:checked~label.sk-toggleable__label {background-color: #d4ebff;}#sk-container-id-1 div.sk-label input.sk-toggleable__control:checked~label.sk-toggleable__label {background-color: #d4ebff;}#sk-container-id-1 input.sk-hidden--visually {border: 0;clip: rect(1px 1px 1px 1px);clip: rect(1px, 1px, 1px, 1px);height: 1px;margin: -1px;overflow: hidden;padding: 0;position: absolute;width: 1px;}#sk-container-id-1 div.sk-estimator {font-family: monospace;background-color: #f0f8ff;border: 1px dotted black;border-radius: 0.25em;box-sizing: border-box;margin-bottom: 0.5em;}#sk-container-id-1 div.sk-estimator:hover {background-color: #d4ebff;}#sk-container-id-1 div.sk-parallel-item::after {content: \"\";width: 100%;border-bottom: 1px solid gray;flex-grow: 1;}#sk-container-id-1 div.sk-label:hover label.sk-toggleable__label {background-color: #d4ebff;}#sk-container-id-1 div.sk-serial::before {content: \"\";position: absolute;border-left: 1px solid gray;box-sizing: border-box;top: 0;bottom: 0;left: 50%;z-index: 0;}#sk-container-id-1 div.sk-serial {display: flex;flex-direction: column;align-items: center;background-color: white;padding-right: 0.2em;padding-left: 0.2em;position: relative;}#sk-container-id-1 div.sk-item {position: relative;z-index: 1;}#sk-container-id-1 div.sk-parallel {display: flex;align-items: stretch;justify-content: center;background-color: white;position: relative;}#sk-container-id-1 div.sk-item::before, #sk-container-id-1 div.sk-parallel-item::before {content: \"\";position: absolute;border-left: 1px solid gray;box-sizing: border-box;top: 0;bottom: 0;left: 50%;z-index: -1;}#sk-container-id-1 div.sk-parallel-item {display: flex;flex-direction: column;z-index: 1;position: relative;background-color: white;}#sk-container-id-1 div.sk-parallel-item:first-child::after {align-self: flex-end;width: 50%;}#sk-container-id-1 div.sk-parallel-item:last-child::after {align-self: flex-start;width: 50%;}#sk-container-id-1 div.sk-parallel-item:only-child::after {width: 0;}#sk-container-id-1 div.sk-dashed-wrapped {border: 1px dashed gray;margin: 0 0.4em 0.5em 0.4em;box-sizing: border-box;padding-bottom: 0.4em;background-color: white;}#sk-container-id-1 div.sk-label label {font-family: monospace;font-weight: bold;display: inline-block;line-height: 1.2em;}#sk-container-id-1 div.sk-label-container {text-align: center;}#sk-container-id-1 div.sk-container {/* jupyter's `normalize.less` sets `[hidden] { display: none; }` but bootstrap.min.css set `[hidden] { display: none !important; }` so we also need the `!important` here to be able to override the default hidden behavior on the sphinx rendered scikit-learn.org. See: https://github.com/scikit-learn/scikit-learn/issues/21755 */display: inline-block !important;position: relative;}#sk-container-id-1 div.sk-text-repr-fallback {display: none;}</style><div id=\"sk-container-id-1\" class=\"sk-top-container\"><div class=\"sk-text-repr-fallback\"><pre>DecisionTreeClassifier(max_depth=2, random_state=0)</pre><b>In a Jupyter environment, please rerun this cell to show the HTML representation or trust the notebook. <br />On GitHub, the HTML representation is unable to render, please try loading this page with nbviewer.org.</b></div><div class=\"sk-container\" hidden><div class=\"sk-item\"><div class=\"sk-estimator sk-toggleable\"><input class=\"sk-toggleable__control sk-hidden--visually\" id=\"sk-estimator-id-1\" type=\"checkbox\" checked><label for=\"sk-estimator-id-1\" class=\"sk-toggleable__label sk-toggleable__label-arrow\">DecisionTreeClassifier</label><div class=\"sk-toggleable__content\"><pre>DecisionTreeClassifier(max_depth=2, random_state=0)</pre></div></div></div></div></div>"
      ],
      "text/plain": [
       "DecisionTreeClassifier(max_depth=2, random_state=0)"
      ]
     },
     "execution_count": 9,
     "metadata": {},
     "output_type": "execute_result"
    }
   ],
   "source": [
    "import pandas as pd\n",
    "from sklearn.model_selection import train_test_split\n",
    "from sklearn.tree import DecisionTreeClassifier\n",
    "\n",
    "# Transform the Spark DataFrame into a Pandas DataFrame\n",
    "results = df.toPandas()\n",
    "\n",
    "# shape the Pandas DataFrame for scikit-learn\n",
    "X = results.iloc[:, :-1]\n",
    "y = results[\"Classification\"]\n",
    "\n",
    "# we do a random 70/30 split\n",
    "X_train, X_test, y_train, y_test = train_test_split(\n",
    "    X, y, test_size=0.3, random_state=1\n",
    ")\n",
    "\n",
    "# we train the model with a depth of 2\n",
    "clf = DecisionTreeClassifier(random_state=0, max_depth=2)\n",
    "clf.fit(X_train.values, y_train.values)"
   ]
  },
  {
   "cell_type": "code",
   "execution_count": 10,
   "id": "c7d7efcd-fa0c-4247-aebb-060d34707c2c",
   "metadata": {},
   "outputs": [],
   "source": [
    "train_df, test_df = df.randomSplit([0.7, 0.3], seed = 12345678)"
   ]
  },
  {
   "cell_type": "code",
   "execution_count": 11,
   "id": "f06f8ae3-774a-44bf-8623-6de5e6b0c59a",
   "metadata": {},
   "outputs": [],
   "source": [
    "#como el conjunto de datos es muy pequeño, para la demostracion hace falta hacer una reparticion manual"
   ]
  },
  {
   "cell_type": "code",
   "execution_count": 12,
   "id": "3c5047bc-e23b-4512-89fe-a95703c26001",
   "metadata": {},
   "outputs": [
    {
     "data": {
      "text/plain": [
       "1"
      ]
     },
     "execution_count": 12,
     "metadata": {},
     "output_type": "execute_result"
    }
   ],
   "source": [
    "train_df.rdd.getNumPartitions()"
   ]
  },
  {
   "cell_type": "code",
   "execution_count": 13,
   "id": "8976193d-bcb6-4aaf-bccb-14955e32ed73",
   "metadata": {},
   "outputs": [],
   "source": [
    "train_rdd = train_df.rdd.repartition(3)\n",
    "test_rdd = test_df.rdd.repartition(2)"
   ]
  },
  {
   "cell_type": "code",
   "execution_count": 14,
   "id": "ab6563e4-f234-48f1-9811-287df428ecf6",
   "metadata": {},
   "outputs": [],
   "source": [
    "column_names = df.columns"
   ]
  },
  {
   "cell_type": "code",
   "execution_count": 15,
   "id": "6c4c2f0b-0a3d-4c7e-a71e-57e54c1f01ea",
   "metadata": {},
   "outputs": [],
   "source": [
    "def build_model(part_it):\n",
    "  part_df = pd.DataFrame(part_it, columns= column_names)\n",
    "\n",
    "  # shape the Pandas DataFrame for scikit-learn\n",
    "  X_train = part_df.iloc[:, :-1]\n",
    "  y_train = part_df[\"Classification\"]\n",
    "\n",
    "  clf = DecisionTreeClassifier(random_state=0, max_depth=2)\n",
    "  model = clf.fit(X_train.values, y_train.values)\n",
    "\n",
    "  return [model]"
   ]
  },
  {
   "cell_type": "code",
   "execution_count": 16,
   "id": "ac465a21-6b32-4fa1-8ac1-13bc053e4a0e",
   "metadata": {},
   "outputs": [],
   "source": [
    "modelos = train_rdd.mapPartitions(build_model)"
   ]
  },
  {
   "cell_type": "code",
   "execution_count": 17,
   "id": "1790538c-ce51-4cb9-9da3-87358c293f72",
   "metadata": {},
   "outputs": [
    {
     "data": {
      "text/plain": [
       "3"
      ]
     },
     "execution_count": 17,
     "metadata": {},
     "output_type": "execute_result"
    }
   ],
   "source": [
    "modelos.count()"
   ]
  },
  {
   "cell_type": "code",
   "execution_count": 18,
   "id": "03568dec-89dd-43e5-aae1-d0a1238dae2a",
   "metadata": {},
   "outputs": [],
   "source": [
    "modelos_driver = modelos.collect()"
   ]
  },
  {
   "cell_type": "code",
   "execution_count": 19,
   "id": "1e0bf951-d1ec-415c-a24b-a02761842658",
   "metadata": {},
   "outputs": [
    {
     "data": {
      "text/plain": [
       "[DecisionTreeClassifier(max_depth=2, random_state=0),\n",
       " DecisionTreeClassifier(max_depth=2, random_state=0),\n",
       " DecisionTreeClassifier(max_depth=2, random_state=0)]"
      ]
     },
     "execution_count": 19,
     "metadata": {},
     "output_type": "execute_result"
    }
   ],
   "source": [
    "modelos.collect()"
   ]
  },
  {
   "cell_type": "code",
   "execution_count": 20,
   "id": "cfa08088-3195-480c-a99d-e90ed7d83a7a",
   "metadata": {},
   "outputs": [
    {
     "data": {
      "text/plain": [
       "[Row(Ex01=95.0, Ex02=80.0, Ex03=80.0, Ex04=70.0, Project=82.0, Total=80.0, Classification='first')]"
      ]
     },
     "execution_count": 20,
     "metadata": {},
     "output_type": "execute_result"
    }
   ],
   "source": [
    "test_rdd.take(1)"
   ]
  },
  {
   "cell_type": "code",
   "execution_count": 21,
   "id": "94b3f459-6ce2-432c-bc3e-41da2b88b7fa",
   "metadata": {},
   "outputs": [],
   "source": [
    "def predict(instance):\n",
    "    return [m.predict([instance[:-1]])[0] for m in modelos_driver]"
   ]
  },
  {
   "cell_type": "code",
   "execution_count": 22,
   "id": "4dd82931-63d3-4593-bb85-84d9030d726e",
   "metadata": {},
   "outputs": [
    {
     "data": {
      "text/plain": [
       "[['first', 'first', 'first'],\n",
       " ['first', 'first', 'first'],\n",
       " ['first', 'first', 'first'],\n",
       " ['not-first', 'not-first', 'not-first'],\n",
       " ['not-first', 'not-first', 'not-first']]"
      ]
     },
     "execution_count": 22,
     "metadata": {},
     "output_type": "execute_result"
    }
   ],
   "source": [
    "test_rdd.map(predict).take(5)"
   ]
  },
  {
   "cell_type": "code",
   "execution_count": 23,
   "id": "a8fe5ec8-a750-474c-8e5b-717e278a5262",
   "metadata": {},
   "outputs": [],
   "source": [
    "def agg_prediction():\n",
    "    predictions = {\"first\" : 0,\n",
    "                   \"not-first\": 1 }\n",
    "    for elem in preds:\n",
    "        predictions[elem]+=1\n",
    "    return max(predictions, key = predictions.get)"
   ]
  },
  {
   "cell_type": "code",
   "execution_count": 24,
   "id": "6cb59490-bbdb-4f01-9881-2607bfbe26c4",
   "metadata": {},
   "outputs": [
    {
     "ename": "SyntaxError",
     "evalue": "incomplete input (2950376140.py, line 1)",
     "output_type": "error",
     "traceback": [
      "\u001b[1;36m  Cell \u001b[1;32mIn[24], line 1\u001b[1;36m\u001b[0m\n\u001b[1;33m    test_rdd.map(\u001b[0m\n\u001b[1;37m                 ^\u001b[0m\n\u001b[1;31mSyntaxError\u001b[0m\u001b[1;31m:\u001b[0m incomplete input\n"
     ]
    }
   ],
   "source": [
    "#test_rdd.map("
   ]
  },
  {
   "cell_type": "code",
   "execution_count": null,
   "id": "ceeeaa99-6f19-4ccf-8f7b-5e38a2662182",
   "metadata": {},
   "outputs": [],
   "source": [
    "#completar notebook https://colab.research.google.com/drive/18ERxpDciXN0sdlUsM8PMigW9qUHFrzKk?usp=sharing#scrollTo=M0YuQLHeokSH"
   ]
  }
 ],
 "metadata": {
  "kernelspec": {
   "display_name": "Python 3 (ipykernel)",
   "language": "python",
   "name": "python3"
  },
  "language_info": {
   "codemirror_mode": {
    "name": "ipython",
    "version": 3
   },
   "file_extension": ".py",
   "mimetype": "text/x-python",
   "name": "python",
   "nbconvert_exporter": "python",
   "pygments_lexer": "ipython3",
   "version": "3.11.6"
  }
 },
 "nbformat": 4,
 "nbformat_minor": 5
}
