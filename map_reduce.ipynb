{
 "cells": [
  {
   "cell_type": "code",
   "execution_count": 16,
   "id": "74c5d76f-d3a4-4cdd-a0cd-2e4ba855100c",
   "metadata": {},
   "outputs": [],
   "source": [
    "import functools"
   ]
  },
  {
   "cell_type": "markdown",
   "id": "c14ea7cc-4db0-44ac-a9f3-ab313a693e43",
   "metadata": {},
   "source": [
    "# map(fun, iter)"
   ]
  },
  {
   "cell_type": "code",
   "execution_count": 13,
   "id": "e8ecc8f6-7cd6-4108-90c1-edc15fbab0c3",
   "metadata": {},
   "outputs": [
    {
     "data": {
      "text/plain": [
       "<map at 0x27f1454d7e0>"
      ]
     },
     "execution_count": 13,
     "metadata": {},
     "output_type": "execute_result"
    }
   ],
   "source": [
    "lista = [1, 2, 3, 4]\n",
    "\n",
    "map(lambda x: x*x, lista)"
   ]
  },
  {
   "cell_type": "code",
   "execution_count": 14,
   "id": "869395c7-1418-4685-8384-17ba415cfe39",
   "metadata": {},
   "outputs": [
    {
     "data": {
      "text/plain": [
       "[1, 4, 9, 16]"
      ]
     },
     "execution_count": 14,
     "metadata": {},
     "output_type": "execute_result"
    }
   ],
   "source": [
    "list(map(lambda x: x*x, lista))"
   ]
  },
  {
   "cell_type": "code",
   "execution_count": 15,
   "id": "549cebad-0840-44ef-b12d-16f56bb51ae9",
   "metadata": {},
   "outputs": [
    {
     "data": {
      "text/plain": [
       "[1, 4, 9, 16]"
      ]
     },
     "execution_count": 15,
     "metadata": {},
     "output_type": "execute_result"
    }
   ],
   "source": [
    "def square(y):\n",
    "    return y*y\n",
    "list(map(square, lista))"
   ]
  },
  {
   "cell_type": "markdown",
   "id": "88825f0e-e8bb-4416-a936-5d42567032d6",
   "metadata": {},
   "source": [
    "# functools.reduce(lambda a, b: a+b. lista)"
   ]
  },
  {
   "cell_type": "code",
   "execution_count": 17,
   "id": "819f918a-cd6a-42c1-b1c2-5ad0233cbd03",
   "metadata": {},
   "outputs": [
    {
     "data": {
      "text/plain": [
       "10"
      ]
     },
     "execution_count": 17,
     "metadata": {},
     "output_type": "execute_result"
    }
   ],
   "source": [
    "functools.reduce(lambda a,b : a+b, lista)"
   ]
  },
  {
   "cell_type": "code",
   "execution_count": 23,
   "id": "72936636-922d-4847-8243-7056e5c9e28c",
   "metadata": {},
   "outputs": [],
   "source": [
    "def suma(x,y):\n",
    "    print(f\"{x} + {y} ---> {x+y}\")\n",
    "    return x+y"
   ]
  },
  {
   "cell_type": "code",
   "execution_count": 24,
   "id": "859b8491-2620-4029-b187-7eb8c8d98eae",
   "metadata": {},
   "outputs": [
    {
     "name": "stdout",
     "output_type": "stream",
     "text": [
      "1 + 2 ---> 3\n",
      "3 + 3 ---> 6\n",
      "6 + 4 ---> 10\n"
     ]
    },
    {
     "data": {
      "text/plain": [
       "10"
      ]
     },
     "execution_count": 24,
     "metadata": {},
     "output_type": "execute_result"
    }
   ],
   "source": [
    "functools.reduce(suma, lista)"
   ]
  },
  {
   "cell_type": "code",
   "execution_count": 18,
   "id": "5f0eff20-e4e1-481b-8ad7-60a3e51453b8",
   "metadata": {},
   "outputs": [
    {
     "data": {
      "text/plain": [
       "30"
      ]
     },
     "execution_count": 18,
     "metadata": {},
     "output_type": "execute_result"
    }
   ],
   "source": [
    "functools.reduce(lambda a,b : a+b, list(map(lambda x: x*x, lista)))"
   ]
  },
  {
   "cell_type": "code",
   "execution_count": 25,
   "id": "0150933b-a111-44d7-9baf-4c383c50ed14",
   "metadata": {},
   "outputs": [
    {
     "name": "stdout",
     "output_type": "stream",
     "text": [
      "1 + 4 ---> 5\n",
      "5 + 9 ---> 14\n",
      "14 + 16 ---> 30\n"
     ]
    },
    {
     "data": {
      "text/plain": [
       "30"
      ]
     },
     "execution_count": 25,
     "metadata": {},
     "output_type": "execute_result"
    }
   ],
   "source": [
    "functools.reduce(suma, list(map(lambda x: x*x, lista)))"
   ]
  },
  {
   "cell_type": "code",
   "execution_count": 52,
   "id": "3b8149f0-44a7-4dc7-a7bd-eb565e77fea6",
   "metadata": {},
   "outputs": [
    {
     "data": {
      "text/plain": [
       "['RUBEN', 'PAULA', 'PABLO', 'LAURA', 'ANTONIO']"
      ]
     },
     "execution_count": 52,
     "metadata": {},
     "output_type": "execute_result"
    }
   ],
   "source": [
    "nombres = [\"Ruben\", \"Paula\", \"Pablo\", \"Laura\", \"Antonio\"]\n",
    "list(map(lambda x: x.upper(), nombres))\n"
   ]
  },
  {
   "cell_type": "code",
   "execution_count": 37,
   "id": "8934fcc7-896b-45f9-b302-c07483d2e99a",
   "metadata": {},
   "outputs": [
    {
     "data": {
      "text/plain": [
       "['RUBEN', 'PAULA', 'PABLO', 'LAURA', 'MARIA']"
      ]
     },
     "execution_count": 37,
     "metadata": {},
     "output_type": "execute_result"
    }
   ],
   "source": [
    "list(map(str.upper, nombres))"
   ]
  },
  {
   "cell_type": "code",
   "execution_count": 40,
   "id": "2979b995-933d-4b86-a13a-2c8e9d72fc77",
   "metadata": {},
   "outputs": [
    {
     "data": {
      "text/plain": [
       "['Hello, Ruben',\n",
       " 'Hello, Paula',\n",
       " 'Hello, Pablo',\n",
       " 'Hello, Laura',\n",
       " 'Hello, Maria']"
      ]
     },
     "execution_count": 40,
     "metadata": {},
     "output_type": "execute_result"
    }
   ],
   "source": [
    "list(map(lambda x: 'Hello, ' + x, nombres))"
   ]
  },
  {
   "cell_type": "code",
   "execution_count": 45,
   "id": "f398450d-578e-4e8d-91e7-db0c3ec28dd7",
   "metadata": {},
   "outputs": [
    {
     "data": {
      "text/plain": [
       "[5, 5, 5, 5, 5]"
      ]
     },
     "execution_count": 45,
     "metadata": {},
     "output_type": "execute_result"
    }
   ],
   "source": [
    "list(map(lambda x: len(x), nombres))"
   ]
  },
  {
   "cell_type": "code",
   "execution_count": 53,
   "id": "fb23a289-675f-4e92-ae15-a99cd79949f2",
   "metadata": {},
   "outputs": [
    {
     "name": "stdout",
     "output_type": "stream",
     "text": [
      "5 + 5 ---> 10\n",
      "10 + 5 ---> 15\n",
      "15 + 5 ---> 20\n",
      "20 + 7 ---> 27\n"
     ]
    },
    {
     "data": {
      "text/plain": [
       "27"
      ]
     },
     "execution_count": 53,
     "metadata": {},
     "output_type": "execute_result"
    }
   ],
   "source": [
    "functools.reduce(suma, list(map(lambda x: len(x), nombres)))"
   ]
  },
  {
   "cell_type": "code",
   "execution_count": 55,
   "id": "2d4f1086-f323-4e55-84ab-2020fa437e93",
   "metadata": {},
   "outputs": [
    {
     "data": {
      "text/plain": [
       "[0, 2, 1, 2, 0]"
      ]
     },
     "execution_count": 55,
     "metadata": {},
     "output_type": "execute_result"
    }
   ],
   "source": [
    "list(map(lambda x: x.count(\"a\"), nombres))"
   ]
  },
  {
   "cell_type": "markdown",
   "id": "6cd40d0f-d7dd-4f27-8a1e-f095e9344521",
   "metadata": {},
   "source": [
    "# World Count en python clásico"
   ]
  },
  {
   "cell_type": "code",
   "execution_count": 63,
   "id": "d945bd62-06ae-4e8a-baa9-985e11d92816",
   "metadata": {},
   "outputs": [],
   "source": [
    "text = \"Welcome to the Big World of Big Big Data Welcome bye World Hello MapReduce Goodbye MapReduce This Book on Big Data is fun\"\n",
    "\n",
    "diccionario = {}\n",
    "for palabra in text.split(\" \"):\n",
    "    if palabra not in diccionario.keys():\n",
    "        diccionario[palabra] = 1\n",
    "    else:\n",
    "        diccionario[palabra] += 1"
   ]
  },
  {
   "cell_type": "code",
   "execution_count": 64,
   "id": "28812daa-4c73-4748-8339-816d5a752cc0",
   "metadata": {},
   "outputs": [
    {
     "data": {
      "text/plain": [
       "{'Welcome': 2,\n",
       " 'to': 1,\n",
       " 'the': 1,\n",
       " 'Big': 4,\n",
       " 'World': 2,\n",
       " 'of': 1,\n",
       " 'Data': 2,\n",
       " 'bye': 1,\n",
       " 'Hello': 1,\n",
       " 'MapReduce': 2,\n",
       " 'Goodbye': 1,\n",
       " 'This': 1,\n",
       " 'Book': 1,\n",
       " 'on': 1,\n",
       " 'is': 1,\n",
       " 'fun': 1}"
      ]
     },
     "execution_count": 64,
     "metadata": {},
     "output_type": "execute_result"
    }
   ],
   "source": [
    "diccionario"
   ]
  },
  {
   "cell_type": "markdown",
   "id": "94519929-e9ab-43eb-ac83-0f988b57a320",
   "metadata": {},
   "source": [
    "# World count en sistemas distribuidos"
   ]
  },
  {
   "cell_type": "code",
   "execution_count": 65,
   "id": "feee95a0-7f7c-4c1d-b0b3-77549c925391",
   "metadata": {},
   "outputs": [
    {
     "data": {
      "text/plain": [
       "[<function str.split(sep=None, maxsplit=-1)>,\n",
       " <function str.split(sep=None, maxsplit=-1)>,\n",
       " <function str.split(sep=None, maxsplit=-1)>,\n",
       " <function str.split(sep=None, maxsplit=-1)>,\n",
       " <function str.split(sep=None, maxsplit=-1)>]"
      ]
     },
     "execution_count": 65,
     "metadata": {},
     "output_type": "execute_result"
    }
   ],
   "source": []
  }
 ],
 "metadata": {
  "kernelspec": {
   "display_name": "Python 3 (ipykernel)",
   "language": "python",
   "name": "python3"
  },
  "language_info": {
   "codemirror_mode": {
    "name": "ipython",
    "version": 3
   },
   "file_extension": ".py",
   "mimetype": "text/x-python",
   "name": "python",
   "nbconvert_exporter": "python",
   "pygments_lexer": "ipython3",
   "version": "3.11.6"
  }
 },
 "nbformat": 4,
 "nbformat_minor": 5
}
