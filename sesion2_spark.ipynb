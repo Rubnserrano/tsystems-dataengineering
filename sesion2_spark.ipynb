{
 "cells": [
  {
   "cell_type": "code",
   "execution_count": 1,
   "id": "3d1544fb-abda-491b-be1f-d1f36136005c",
   "metadata": {},
   "outputs": [],
   "source": [
    "from pyspark import SparkConf, SparkContext\n",
    "conf = SparkConf().setMaster(\"local[*]\")\\\n",
    "                  .setAppName(\"T-systems: segunda sesion\")\n",
    "sc = SparkContext(conf = conf)"
   ]
  },
  {
   "cell_type": "code",
   "execution_count": 2,
   "id": "8fee683e-4b9f-4094-b73b-321c5cb1fb15",
   "metadata": {},
   "outputs": [
    {
     "data": {
      "text/html": [
       "\n",
       "        <div>\n",
       "            <p><b>SparkContext</b></p>\n",
       "\n",
       "            <p><a href=\"http://DESKTOP-COCUL63:4040\">Spark UI</a></p>\n",
       "\n",
       "            <dl>\n",
       "              <dt>Version</dt>\n",
       "                <dd><code>v3.5.0</code></dd>\n",
       "              <dt>Master</dt>\n",
       "                <dd><code>local[*]</code></dd>\n",
       "              <dt>AppName</dt>\n",
       "                <dd><code>T-systems: segunda sesion</code></dd>\n",
       "            </dl>\n",
       "        </div>\n",
       "        "
      ],
      "text/plain": [
       "<SparkContext master=local[*] appName=T-systems: segunda sesion>"
      ]
     },
     "execution_count": 2,
     "metadata": {},
     "output_type": "execute_result"
    }
   ],
   "source": [
    "sc"
   ]
  },
  {
   "cell_type": "code",
   "execution_count": 3,
   "id": "7b2e7ae8-813c-4bc0-987a-75343a0cf513",
   "metadata": {},
   "outputs": [],
   "source": [
    "rdd = sc.parallelize([1,2,3,4,5,6,7,8])"
   ]
  },
  {
   "cell_type": "code",
   "execution_count": 4,
   "id": "b1044187-39fe-4853-b278-2260600fd75d",
   "metadata": {},
   "outputs": [],
   "source": [
    "rdd2 = rdd.map(lambda x: x**2).cache()"
   ]
  },
  {
   "cell_type": "code",
   "execution_count": 5,
   "id": "8bd2d91c-6bbd-4f01-bd6a-961492119731",
   "metadata": {},
   "outputs": [],
   "source": [
    "rdd3 = rdd2.map(lambda x: x+1)"
   ]
  },
  {
   "cell_type": "code",
   "execution_count": 6,
   "id": "6c3f596b-819c-4229-9ec1-70bec524466e",
   "metadata": {},
   "outputs": [
    {
     "data": {
      "text/plain": [
       "[1, 65, 2, 3, 4, 5, 37, 6, 7, 8, 10, 17, 50, 26]"
      ]
     },
     "execution_count": 6,
     "metadata": {},
     "output_type": "execute_result"
    }
   ],
   "source": [
    "rdd.union(rdd3).distinct().collect()"
   ]
  },
  {
   "cell_type": "code",
   "execution_count": 7,
   "id": "67e0a0cf-c02b-4647-8863-4787005299ba",
   "metadata": {},
   "outputs": [
    {
     "data": {
      "text/plain": [
       "44"
      ]
     },
     "execution_count": 7,
     "metadata": {},
     "output_type": "execute_result"
    }
   ],
   "source": [
    "rdd.map(lambda x: x+1).reduce(lambda x, y: x+y)"
   ]
  },
  {
   "cell_type": "code",
   "execution_count": 8,
   "id": "a43a439b-a318-4c57-a351-358107629a85",
   "metadata": {},
   "outputs": [
    {
     "data": {
      "text/plain": [
       "[8, 7, 6, 5]"
      ]
     },
     "execution_count": 8,
     "metadata": {},
     "output_type": "execute_result"
    }
   ],
   "source": [
    "rdd.takeOrdered(4, key = lambda x: -x) #ordenar descendente, hay que asignar la funcion -x como clave"
   ]
  },
  {
   "cell_type": "code",
   "execution_count": 11,
   "id": "53e36491-0a67-433f-91e6-9e4886d58148",
   "metadata": {},
   "outputs": [],
   "source": [
    "rdd.foreach(lambda x: print(x)) #no se ve nada pq los print se estan ejecutando en cada uno de los nodos."
   ]
  },
  {
   "cell_type": "markdown",
   "id": "42238aa3-8ca9-44f2-8c97-1ae58800f320",
   "metadata": {},
   "source": [
    "## Key-Value RDD's"
   ]
  },
  {
   "cell_type": "code",
   "execution_count": 12,
   "id": "0bb948a0-fa0f-49e5-b7f3-f79320d6330b",
   "metadata": {},
   "outputs": [],
   "source": [
    "rdd_kv = sc.parallelize([(1,2), (1,4), (4,5)])"
   ]
  },
  {
   "cell_type": "code",
   "execution_count": 14,
   "id": "e7e63b09-2a73-4e1b-8263-9ef314fdd285",
   "metadata": {},
   "outputs": [
    {
     "data": {
      "text/plain": [
       "3"
      ]
     },
     "execution_count": 14,
     "metadata": {},
     "output_type": "execute_result"
    }
   ],
   "source": [
    "rdd_kv.count()"
   ]
  },
  {
   "cell_type": "code",
   "execution_count": 17,
   "id": "24248042-f703-42eb-be94-36ffd362b7bc",
   "metadata": {},
   "outputs": [
    {
     "data": {
      "text/plain": [
       "[(1, <pyspark.resultiterable.ResultIterable at 0x1e113b19310>),\n",
       " (4, <pyspark.resultiterable.ResultIterable at 0x1e113b19b10>)]"
      ]
     },
     "execution_count": 17,
     "metadata": {},
     "output_type": "execute_result"
    }
   ],
   "source": [
    "rdd_kv.groupByKey().collect()"
   ]
  },
  {
   "cell_type": "code",
   "execution_count": 22,
   "id": "4aaebd6f-7736-4243-b5f9-3edcf18c8095",
   "metadata": {},
   "outputs": [
    {
     "data": {
      "text/plain": [
       "[(1, [2, 4]), (4, [5])]"
      ]
     },
     "execution_count": 22,
     "metadata": {},
     "output_type": "execute_result"
    }
   ],
   "source": [
    "rdd_kv.groupByKey().map(lambda x: (x[0], list(x[1]))).collect()"
   ]
  },
  {
   "cell_type": "code",
   "execution_count": 27,
   "id": "faa983fb-0f75-462b-8ede-78f4c718b450",
   "metadata": {},
   "outputs": [
    {
     "data": {
      "text/plain": [
       "[(1, 6), (4, 5)]"
      ]
     },
     "execution_count": 27,
     "metadata": {},
     "output_type": "execute_result"
    }
   ],
   "source": [
    "rdd_kv.reduceByKey(lambda x,y: x+y).collect()"
   ]
  },
  {
   "cell_type": "code",
   "execution_count": null,
   "id": "ca660a20-06ca-4979-9fef-90ed80471894",
   "metadata": {},
   "outputs": [],
   "source": []
  },
  {
   "cell_type": "code",
   "execution_count": 31,
   "id": "410162bb-e251-4da1-be4a-8461689efc7e",
   "metadata": {},
   "outputs": [],
   "source": [
    "lines = sc.parallelize([\"Welcome World\", \"to\",\n",
    "                        \"the the the World of Big\",\n",
    "                        \"Data Hello to the World\"])"
   ]
  },
  {
   "cell_type": "code",
   "execution_count": 32,
   "id": "9a3c17ed-477a-411e-8eef-c0b228916946",
   "metadata": {},
   "outputs": [
    {
     "data": {
      "text/plain": [
       "[('Welcome', 1),\n",
       " ('World', 1),\n",
       " ('to', 1),\n",
       " ('the', 1),\n",
       " ('the', 1),\n",
       " ('the', 1),\n",
       " ('World', 1),\n",
       " ('of', 1),\n",
       " ('Big', 1),\n",
       " ('Data', 1),\n",
       " ('Hello', 1),\n",
       " ('to', 1),\n",
       " ('the', 1),\n",
       " ('World', 1)]"
      ]
     },
     "execution_count": 32,
     "metadata": {},
     "output_type": "execute_result"
    }
   ],
   "source": [
    "lines.flatMap(lambda x: x.split(\" \")).map(lambda x: (x, 1)).collect()"
   ]
  },
  {
   "cell_type": "code",
   "execution_count": 53,
   "id": "d47a2180-f070-49e7-a4de-666ed0b6b1b2",
   "metadata": {},
   "outputs": [
    {
     "data": {
      "text/plain": [
       "[('the', 4),\n",
       " ('Big', 1),\n",
       " ('Welcome', 1),\n",
       " ('to', 2),\n",
       " ('Hello', 1),\n",
       " ('of', 1),\n",
       " ('Data', 1),\n",
       " ('World', 3)]"
      ]
     },
     "execution_count": 53,
     "metadata": {},
     "output_type": "execute_result"
    }
   ],
   "source": [
    "lines.flatMap(lambda x: x.split(\" \")).map(lambda x: (x, 1)).reduceByKey(lambda x, y: x+y).collect()"
   ]
  },
  {
   "cell_type": "code",
   "execution_count": 56,
   "id": "25d57183-b3b3-41dd-9ad6-212df8a83f46",
   "metadata": {},
   "outputs": [
    {
     "data": {
      "text/plain": [
       "[('the', 4),\n",
       " ('Big', 1),\n",
       " ('Welcome', 1),\n",
       " ('to', 2),\n",
       " ('Hello', 1),\n",
       " ('of', 1),\n",
       " ('Data', 1),\n",
       " ('World', 3)]"
      ]
     },
     "execution_count": 56,
     "metadata": {},
     "output_type": "execute_result"
    }
   ],
   "source": [
    "lines.flatMap(lambda x: x.split(\" \")).map(lambda x: (x, 1)).groupByKey().map(lambda x: (x[0], len(x[1]))).collect()"
   ]
  },
  {
   "cell_type": "code",
   "execution_count": 61,
   "id": "13536135-8ed6-4660-91b6-b2c50cb36aaf",
   "metadata": {},
   "outputs": [
    {
     "data": {
      "text/plain": [
       "defaultdict(int,\n",
       "            {'Welcome': 1,\n",
       "             'World': 3,\n",
       "             'to': 2,\n",
       "             'the': 4,\n",
       "             'of': 1,\n",
       "             'Big': 1,\n",
       "             'Data': 1,\n",
       "             'Hello': 1})"
      ]
     },
     "execution_count": 61,
     "metadata": {},
     "output_type": "execute_result"
    }
   ],
   "source": [
    "lines.flatMap(lambda x: x.split(\" \")).map(lambda x: (x, 1)).countByKey()"
   ]
  },
  {
   "cell_type": "code",
   "execution_count": 62,
   "id": "8688c133-87cc-475f-882b-4fc3e4d984c9",
   "metadata": {},
   "outputs": [],
   "source": [
    "words_quixote = book.flatMap(lambda line:line.split(\" \"))"
   ]
  },
  {
   "cell_type": "code",
   "execution_count": 64,
   "id": "84ca8572-8e04-4ff9-8bda-d4215a73e71e",
   "metadata": {},
   "outputs": [
    {
     "data": {
      "text/plain": [
       "['',\n",
       " 'The',\n",
       " 'Project',\n",
       " 'Gutenberg',\n",
       " 'EBook',\n",
       " 'of',\n",
       " 'The',\n",
       " 'History',\n",
       " 'of',\n",
       " 'Don']"
      ]
     },
     "execution_count": 64,
     "metadata": {},
     "output_type": "execute_result"
    }
   ],
   "source": [
    "words_quixote.take(10)"
   ]
  },
  {
   "cell_type": "code",
   "execution_count": 66,
   "id": "4ab0b236-e460-4f80-8cb6-f74dd45e1e71",
   "metadata": {},
   "outputs": [
    {
     "data": {
      "text/plain": [
       "[('', 7596),\n",
       " ('Gutenberg', 22),\n",
       " ('EBook', 2),\n",
       " ('of', 12866),\n",
       " ('History', 6),\n",
       " ('Don', 2542),\n",
       " ('Quixote', 1012),\n",
       " ('by', 2038),\n",
       " ('Miguel', 10),\n",
       " ('eBook', 5),\n",
       " ('for', 4534),\n",
       " ('use', 63),\n",
       " ('anyone', 82),\n",
       " ('at', 1930),\n",
       " ('no', 1227),\n",
       " ('cost', 34),\n",
       " ('and', 16606),\n",
       " ('with', 3524),\n",
       " ('almost', 81),\n",
       " ('restrictions', 4),\n",
       " ('give', 546),\n",
       " ('it', 4199),\n",
       " ('re-use', 2),\n",
       " ('under', 187),\n",
       " ('License', 8),\n",
       " ('this', 2289),\n",
       " ('online', 4),\n",
       " ('Author:', 1),\n",
       " ('2004', 1),\n",
       " ('[EBook', 1),\n",
       " ('#996]', 1),\n",
       " ('Last', 4),\n",
       " ('2019', 1),\n",
       " ('set', 215),\n",
       " ('***', 6),\n",
       " ('START', 1),\n",
       " ('THIS', 30),\n",
       " ('PROJECT', 4),\n",
       " ('EBOOK', 2),\n",
       " ('DON', 138),\n",
       " ('QUIXOTE', 123),\n",
       " ('Produced', 2),\n",
       " ('Widger', 2),\n",
       " ('bookcover.jpg', 1),\n",
       " ('Full', 263),\n",
       " ('Size', 260),\n",
       " ('Translated', 1),\n",
       " ('Ebook', 1),\n",
       " ('cover', 23),\n",
       " ('spine', 1),\n",
       " ('images', 8),\n",
       " ('were', 1270),\n",
       " ('part', 122),\n",
       " ('are', 1274),\n",
       " ('taken', 176),\n",
       " ('from', 1522),\n",
       " ('1880', 1),\n",
       " ('edition', 11),\n",
       " ('J.', 2),\n",
       " ('Clark,', 1),\n",
       " ('illustrated', 2),\n",
       " ('Doré.', 1),\n",
       " ('his', 4518),\n",
       " ('states', 7),\n",
       " ('“The', 107),\n",
       " ('text', 2),\n",
       " ('‘Don', 7),\n",
       " ('Jarvis,', 1),\n",
       " ('occasional', 3),\n",
       " ('corrections', 1),\n",
       " ('See', 14),\n",
       " ('introduction', 1),\n",
       " ('below', 17),\n",
       " ('critique', 1),\n",
       " ('Motteaux', 1),\n",
       " ('It', 190),\n",
       " ('elected', 1),\n",
       " ('present', 141),\n",
       " ('to', 13492),\n",
       " ('famous', 123),\n",
       " ('engravings', 3),\n",
       " ('instead', 55),\n",
       " ('detail', 3),\n",
       " ('appreciated', 1),\n",
       " ('utilizing', 1),\n",
       " ('“Full', 1),\n",
       " ('Size”', 1),\n",
       " ('button', 2),\n",
       " ('expand', 1),\n",
       " ('their', 1000),\n",
       " ('criticized', 1),\n",
       " ('nature', 49),\n",
       " ('illustrations;', 1),\n",
       " ('feel', 105),\n",
       " ('these', 549),\n",
       " ('woodcuts', 1),\n",
       " ('well', 443),\n",
       " ('Quixote’s', 124),\n",
       " ('p003.jpg', 2),\n",
       " ('(307K)', 2),\n",
       " ('CONTENTS', 2),\n",
       " ('I', 5756),\n",
       " ('CHARACTER', 2),\n",
       " ('GENTLEMAN', 9),\n",
       " ('LA', 23),\n",
       " ('II', 4),\n",
       " ('FIRST', 2),\n",
       " ('INGENIOUS', 9),\n",
       " ('RELATED', 32),\n",
       " ('WAY', 10),\n",
       " ('IN', 113),\n",
       " ('A', 117),\n",
       " ('KNIGHT', 28),\n",
       " ('WHAT', 48),\n",
       " ('HAPPENED', 18),\n",
       " ('OUR', 14),\n",
       " ('WHEN', 4),\n",
       " ('LEFT', 4),\n",
       " ('INN', 12),\n",
       " ('NARRATIVE', 2),\n",
       " ('KNIGHT’S', 2),\n",
       " ('CONTINUED', 25),\n",
       " ('VI', 3),\n",
       " ('IMPORTANT', 4),\n",
       " ('BARBER', 8),\n",
       " ('VIII', 2),\n",
       " ('FORTUNE', 2),\n",
       " ('VALIANT', 12),\n",
       " ('TERRIBLE', 4),\n",
       " ('OTHER', 75),\n",
       " ('OCCURRENCES', 6),\n",
       " ('RECORDED', 4),\n",
       " ('X', 4),\n",
       " ('DISCOURSE', 10),\n",
       " ('THAT', 54),\n",
       " ('HIS', 59),\n",
       " ('SQUIRE', 9),\n",
       " ('CERTAIN', 6),\n",
       " ('GOATHERD', 4),\n",
       " ('THOSE', 5),\n",
       " ('XIII', 2),\n",
       " ('INCIDENTS', 24),\n",
       " ('XIV', 2),\n",
       " ('DEAD', 4),\n",
       " ('FOR', 9),\n",
       " ('XV', 2),\n",
       " ('FELL', 6),\n",
       " ('OUT', 6),\n",
       " ('HEARTLESS', 2),\n",
       " ('XVI', 2),\n",
       " ('TOOK', 14),\n",
       " ('CONTAINED', 2),\n",
       " ('TROUBLES', 2),\n",
       " ('XVIII', 2),\n",
       " ('HELD', 8),\n",
       " ('MASTER,', 4),\n",
       " ('WORTH', 8),\n",
       " ('SHREWD', 8),\n",
       " ('HIM', 6),\n",
       " ('NOTABLE', 10),\n",
       " ('WAS', 10),\n",
       " ('BY', 6),\n",
       " ('LESS', 2),\n",
       " ('PERIL', 2),\n",
       " ('THAN', 6),\n",
       " ('ANY', 7),\n",
       " ('XXI', 2),\n",
       " ('EXALTED', 2),\n",
       " ('RICH', 2),\n",
       " ('PRIZE', 2),\n",
       " ('HELMET,', 2),\n",
       " ('XXII', 2),\n",
       " ('CONFERRED', 2),\n",
       " ('ON', 23),\n",
       " ('SEVERAL', 4),\n",
       " ('AGAINST', 2),\n",
       " ('WILL', 13),\n",
       " ('BEING', 4),\n",
       " ('WISH', 2),\n",
       " ('GO', 2),\n",
       " ('XXIII', 2),\n",
       " ('MORENA,', 4),\n",
       " ('RAREST', 4),\n",
       " ('HISTORY', 18),\n",
       " ('XXIV', 2),\n",
       " ('XXV', 2),\n",
       " ('STRANGE', 20),\n",
       " ('STOUT', 2),\n",
       " ('BELTENEBROS', 2),\n",
       " ('XXVI', 2),\n",
       " ('REFINEMENTS', 2),\n",
       " ('PLAYED', 2),\n",
       " ('PART', 3),\n",
       " ('LOVER', 2),\n",
       " ('PROCEEDED', 2),\n",
       " ('SCHEME;', 2),\n",
       " ('GREAT', 14),\n",
       " ('DELIGHTFUL', 4),\n",
       " ('SAME', 2),\n",
       " ('DEVICE', 4),\n",
       " ('METHOD', 2),\n",
       " ('ADOPTED', 4),\n",
       " ('EXTRICATE', 2),\n",
       " ('SEVERE', 2),\n",
       " ('IMPOSED', 2),\n",
       " ('ADDRESS', 2),\n",
       " ('FAIR', 6),\n",
       " ('XXXI', 2),\n",
       " ('DELECTABLE', 6),\n",
       " ('DISCUSSION', 2),\n",
       " ('XXXII', 2),\n",
       " ('QUIXOTE’S', 6),\n",
       " ('PARTY', 2),\n",
       " ('AT', 4),\n",
       " ('NOVEL', 6),\n",
       " ('CURIOSITY”', 6),\n",
       " ('XXXV', 2),\n",
       " ('SKINS', 2),\n",
       " ('BRINGS', 2),\n",
       " ('CURIOUS', 4),\n",
       " ('OCCURRED', 4),\n",
       " ('XXXVII', 2),\n",
       " ('XXXVIII', 2),\n",
       " ('DELIVERED', 2),\n",
       " ('LETTERS', 2),\n",
       " ('LIFE', 5),\n",
       " ('XL', 2),\n",
       " ('XLI', 2),\n",
       " ('STILL', 2),\n",
       " ('KNOWING', 4),\n",
       " ('MULETEER,', 2),\n",
       " ('QUESTION', 2),\n",
       " ('PACK-SADDLE', 2),\n",
       " ('FINALLY', 2),\n",
       " ('EARNEST', 2),\n",
       " ('XLVI', 2),\n",
       " ('BROTHERHOOD;', 2),\n",
       " ('KNIGHT,', 2),\n",
       " ('XLVII', 2),\n",
       " ('AWAY', 2),\n",
       " ('REMARKABLE', 2),\n",
       " ('CHIVALRY,', 2),\n",
       " ('XLIX', 2),\n",
       " ('MASTER', 5),\n",
       " ('L', 2),\n",
       " ('CONTROVERSY', 2),\n",
       " ('HELD,', 2),\n",
       " ('LI', 2),\n",
       " ('DEALS', 8),\n",
       " ('TOLD', 6),\n",
       " ('OFF', 2),\n",
       " ('QUARREL', 2),\n",
       " ('RARE', 2),\n",
       " ('PENITENTS,', 2),\n",
       " ('EXPENDITURE', 2),\n",
       " ('BROUGHT', 4),\n",
       " ('HAPPY', 6),\n",
       " ('MALADY', 2),\n",
       " ('ALTERCATION', 2),\n",
       " ('HOUSEKEEPER,', 2),\n",
       " ('DROLLMATTERS', 1),\n",
       " ('CARRASCO', 2),\n",
       " ('SATISFACTORY', 2),\n",
       " ('REPLY', 4),\n",
       " ('DOUBTS', 2),\n",
       " ('WIFE', 4),\n",
       " ('TERESA', 11),\n",
       " ('VERY', 2),\n",
       " ('SEE', 2),\n",
       " ('DULCINEA', 5),\n",
       " ('CRAFTY', 2),\n",
       " ('DULCINEA,', 4),\n",
       " ('LUDICROUS', 2),\n",
       " ('OR', 18),\n",
       " ('CART', 2),\n",
       " ('DEATH”', 2),\n",
       " ('BOLD', 2),\n",
       " ('MIRRORS', 4),\n",
       " ('GROVE,', 2),\n",
       " ('TRANQUIL', 2),\n",
       " ('COLLOQUY', 2),\n",
       " ('TWO', 2),\n",
       " ('IT', 6),\n",
       " ('DISCREET', 2),\n",
       " ('SHOWN', 4),\n",
       " ('FURTHEST', 2),\n",
       " ('HIGHEST', 2),\n",
       " ('UNEXAMPLEDCOURAGE', 1),\n",
       " ('COULD', 2),\n",
       " ('REACH;', 2),\n",
       " ('HAPPILY', 2),\n",
       " ('GABAN,', 2),\n",
       " ('ENAMOURED', 4),\n",
       " ('ACCOUNT', 4),\n",
       " ('GIVEN', 6),\n",
       " ('CAMACHO', 2),\n",
       " ('INCIDENT', 2),\n",
       " ('GRAND', 2),\n",
       " ('MANCHA,', 4),\n",
       " ('SAW', 2),\n",
       " ('PROFOUND', 2),\n",
       " ('MONTESINOS,', 2),\n",
       " ('CAUSE', 2),\n",
       " ('THOUSAND', 2),\n",
       " ('TRIFLING', 2),\n",
       " ('MATTERS,', 2),\n",
       " ('NECESSARY', 2),\n",
       " ('RIGHT', 5),\n",
       " ('UNDERSTANDING', 2),\n",
       " ('SET', 8),\n",
       " ('DOWN', 2),\n",
       " ('BRAYING', 4),\n",
       " ('ADVENTURE,', 6),\n",
       " ('PUPPET-SHOWMAN,', 4),\n",
       " ('DIVINING', 2),\n",
       " ('APE', 4),\n",
       " ('DID', 2),\n",
       " ('CONCLUDE', 2),\n",
       " ('LIKED', 2),\n",
       " ('SAYS', 2),\n",
       " ('KNOW,', 2),\n",
       " ('ATTENTION', 2),\n",
       " ('HUNTRESS', 2),\n",
       " ('MANY', 2),\n",
       " ('GAVE', 10),\n",
       " ('CENSURER,', 2),\n",
       " ('INCIDENTS,', 2),\n",
       " ('GRAVE', 2),\n",
       " ('DAMSELS', 4),\n",
       " ('NOTING', 2),\n",
       " ('TOBOSO,', 2),\n",
       " ('BOOK', 2),\n",
       " ('TOUCHING', 2),\n",
       " ('DISENCHANTMENT', 2),\n",
       " ('MARVELLOUS', 4),\n",
       " ('DISTRESSED', 8),\n",
       " ('COUNTESS', 2),\n",
       " ('WROTE', 2),\n",
       " ('DUENNA’S', 2),\n",
       " ('TALE', 2),\n",
       " ('MISFORTUNES', 2),\n",
       " ('TRIFALDI', 2),\n",
       " ('BELONGING', 2),\n",
       " ('CLAVILEÑO', 2),\n",
       " ('PROTRACTED', 2),\n",
       " ('COUNSELS', 4),\n",
       " ('ISLAND,', 4),\n",
       " ('WELL-CONSIDERED', 2),\n",
       " ('CONDUCTED', 4),\n",
       " ('POSSESSION', 2),\n",
       " ('BEGINNING', 2),\n",
       " ('BELL', 2),\n",
       " ('CAT', 2),\n",
       " ('ALTISIDORA’S', 2),\n",
       " ('GOVERNMENT', 4),\n",
       " ('ISLAND', 3),\n",
       " ('PINCHED', 2),\n",
       " ('PAGE', 2),\n",
       " ('PANZA’S', 8),\n",
       " ('OTHERWISE', 2),\n",
       " ('CALLED', 2),\n",
       " ('RODRIGUEZ', 4),\n",
       " ('LIV', 1),\n",
       " ('LV', 1),\n",
       " ('CANNOT', 4),\n",
       " ('UNPARALLELED', 2),\n",
       " ('LVII', 1),\n",
       " ('LEAVE', 2),\n",
       " ('FOLLOWED', 2),\n",
       " ('LVIII', 1),\n",
       " ('TELLS', 2),\n",
       " ('MAY', 2),\n",
       " ('BARCELONA', 2),\n",
       " ('LXI', 1),\n",
       " ('LXII', 1),\n",
       " ('HEAD,', 2),\n",
       " ('UNTOLD', 2),\n",
       " ('THROUGH', 2),\n",
       " ('VISIT', 2),\n",
       " ('LXIV', 1),\n",
       " ('UNHAPPINESS', 2),\n",
       " ('BEFALLEN', 2),\n",
       " ('MOON', 2),\n",
       " ('GREGORIO’S', 2),\n",
       " ('LXVI', 1),\n",
       " ('SEE,', 2),\n",
       " ('HAS', 2),\n",
       " ('READ', 3),\n",
       " ('RESOLUTION', 2),\n",
       " ('FORMED', 2),\n",
       " ('TAKE', 2),\n",
       " ('COURSE;', 2),\n",
       " ('FOLLOWS', 2),\n",
       " ('CLEAR', 2),\n",
       " ('LXXII', 1),\n",
       " ('ENTERED', 2),\n",
       " ('EMBELLISH', 2),\n",
       " ('GIVE', 3),\n",
       " ('LXXIV', 1),\n",
       " ('MADE,', 2),\n",
       " ('DIED', 2),\n",
       " ('TRANSLATION', 1),\n",
       " ('reluctance', 1),\n",
       " ('favour', 58),\n",
       " ('undertaking', 4),\n",
       " ('what', 1613),\n",
       " ('long', 204),\n",
       " ('new', 95),\n",
       " ('“Don', 80),\n",
       " ('become', 89),\n",
       " ('book.', 7),\n",
       " ('There', 53),\n",
       " ('confess', 27),\n",
       " ('myself', 255),\n",
       " ('one—for', 1),\n",
       " ('whom', 299),\n",
       " ('racy', 1),\n",
       " ('old', 110),\n",
       " ('defects,', 2),\n",
       " ('charm', 10),\n",
       " ('translation,', 4),\n",
       " ('skilful', 4),\n",
       " ('correct,', 3),\n",
       " ('could', 634),\n",
       " ('possess.', 2),\n",
       " ('advantage', 33),\n",
       " ('belonging', 29),\n",
       " ('generation', 1),\n",
       " ('as', 4252),\n",
       " ('Quixote”', 45),\n",
       " ('vitality', 2),\n",
       " ('contemporary', 2),\n",
       " ('feel;', 1),\n",
       " ('see', 676),\n",
       " ('saw', 321),\n",
       " ('them;', 85),\n",
       " ('language;', 1),\n",
       " ('Shakespeare', 4),\n",
       " ('himself', 649),\n",
       " ('most', 327),\n",
       " ('likely', 32),\n",
       " ('knew', 137),\n",
       " ('book;', 7),\n",
       " ('have', 2532),\n",
       " ('carried', 129),\n",
       " ('saddle-bags', 3),\n",
       " ('last', 118),\n",
       " ('journeys,', 1),\n",
       " ('tree', 20),\n",
       " ('Place', 1),\n",
       " ('kindred', 3),\n",
       " ('genius', 3),\n",
       " ('But', 311),\n",
       " ('me', 1703),\n",
       " ('hope', 65),\n",
       " ('even', 334),\n",
       " ('vain.', 2),\n",
       " ('crusted', 1),\n",
       " ('relished', 3),\n",
       " ('but', 1683),\n",
       " ('would', 1218),\n",
       " ('minority.', 1),\n",
       " ('admit', 5),\n",
       " ('satisfactory', 8),\n",
       " ('Cervantes.', 9),\n",
       " ('First', 20),\n",
       " ('Part', 34),\n",
       " ('hastily', 10),\n",
       " ('never', 349),\n",
       " ('him.', 154),\n",
       " ('full', 175),\n",
       " ('measure', 31),\n",
       " ('faults,', 3),\n",
       " ('often', 57),\n",
       " ('literal', 1),\n",
       " ('just', 210),\n",
       " ('evidently', 6),\n",
       " ('good', 764),\n",
       " ('colloquial', 3),\n",
       " ('knowledge', 25),\n",
       " ('Spanish,', 8),\n",
       " ('apparently', 22),\n",
       " ('seems', 120),\n",
       " ('word', 112),\n",
       " ('will', 1510),\n",
       " ('Quixote.”', 14),\n",
       " ('To', 216),\n",
       " ('savours', 3),\n",
       " ('platitude', 1),\n",
       " ('say', 617),\n",
       " ('so,', 206),\n",
       " ('truth', 158),\n",
       " ('other', 525),\n",
       " ('so', 1968),\n",
       " ('utterly', 5),\n",
       " ('unmanageable,', 1),\n",
       " ('words,', 57),\n",
       " ('numerous', 11),\n",
       " ('enough', 163),\n",
       " ('rather', 139),\n",
       " ('best', 150),\n",
       " ('distantly', 1),\n",
       " ('imitated', 3),\n",
       " ('tongue.', 4),\n",
       " ('history', 106),\n",
       " ('our', 514),\n",
       " ('translations', 5),\n",
       " ('Shelton’s,', 1),\n",
       " ('first', 278),\n",
       " ('language,', 24),\n",
       " ('apparently,', 5),\n",
       " ('about', 530),\n",
       " ('course', 84),\n",
       " ('Part.', 4),\n",
       " ('asserted', 3),\n",
       " ('work', 97),\n",
       " ('Shelton,', 5),\n",
       " ('nothing', 259),\n",
       " ('support', 42),\n",
       " ('assertion', 3),\n",
       " ('fact', 44),\n",
       " ('“go,”', 1),\n",
       " ('than', 968),\n",
       " ('natural', 52),\n",
       " ('man', 343),\n",
       " ('writing', 29),\n",
       " ('_currente', 1),\n",
       " ('calamo_,', 1),\n",
       " ('bookseller.', 1),\n",
       " ('On', 88),\n",
       " ('closer', 8),\n",
       " ('more', 1001),\n",
       " ('literal,', 1),\n",
       " ('style', 39),\n",
       " ('translations,', 1),\n",
       " ('mistranslations,', 1),\n",
       " ('extremely', 14),\n",
       " ('suppressing', 2),\n",
       " ('1687', 1),\n",
       " ('English,”', 1),\n",
       " ('“Quixote”', 1),\n",
       " ('travesty,', 1),\n",
       " ('travesty', 1),\n",
       " ('buffoonery', 2),\n",
       " ('unexampled', 9),\n",
       " ('day.', 16),\n",
       " ('Ward’s', 1),\n",
       " ('Quixote,', 626),\n",
       " ('merrily', 1),\n",
       " ('translated', 10),\n",
       " ('Hudibrastic', 1),\n",
       " ('Verse”', 1),\n",
       " ('(1700),', 1),\n",
       " ('scarcely', 21),\n",
       " ('reckoned', 15),\n",
       " ('show', 151),\n",
       " ('light', 85),\n",
       " ('regarded', 27),\n",
       " ('time.', 17),\n",
       " ('further', 55),\n",
       " ('found', 308),\n",
       " ('version', 8),\n",
       " ('then', 326),\n",
       " ('combined', 4),\n",
       " ('literature.', 3),\n",
       " ('described', 35),\n",
       " ('manipulation', 1),\n",
       " ('distinctly', 5),\n",
       " ('Franco-cockney.', 1),\n",
       " ('Anyone', 1),\n",
       " ('compares', 2),\n",
       " ('little', 291),\n",
       " ('doubt', 141),\n",
       " ('French', 11),\n",
       " ('borrowings', 1),\n",
       " ('adopts.', 1),\n",
       " ('decent', 2),\n",
       " ('treats', 8),\n",
       " ('fashion', 27),\n",
       " ('too', 86),\n",
       " ('an', 839),\n",
       " ('infusion', 1),\n",
       " ('cockney', 1),\n",
       " ('facetiousness,', 1),\n",
       " ('impertinence', 3),\n",
       " ('like', 532),\n",
       " ('sirloin', 1),\n",
       " ('prize', 16),\n",
       " ('beef,', 3),\n",
       " ('falsification', 1),\n",
       " ('spirit', 28),\n",
       " ('proof', 31),\n",
       " ('uncritical', 1),\n",
       " ('read', 168),\n",
       " ('translation—worthless', 1),\n",
       " ('been.', 1),\n",
       " ('bringing', 42),\n",
       " ('portrait', 10),\n",
       " ('friend', 106),\n",
       " ('Pope,', 3),\n",
       " ('Arbuthnot,', 1),\n",
       " ('Gay.', 1),\n",
       " ('known', 94),\n",
       " ('world', 182),\n",
       " ('general', 33),\n",
       " ('Jarvis’s.', 1),\n",
       " ('death,', 39),\n",
       " ('name', 195),\n",
       " ('according', 60),\n",
       " ('used', 73),\n",
       " ('abused', 7),\n",
       " ('far', 159),\n",
       " ('admitted', 8),\n",
       " ('faithful,', 3),\n",
       " ('yet', 83),\n",
       " ('prejudiced', 2),\n",
       " ('against', 210),\n",
       " ('preface,', 5),\n",
       " ('where', 486),\n",
       " ('among', 160),\n",
       " ('true', 110),\n",
       " ('words', 181),\n",
       " ('charges', 4),\n",
       " ('Italian', 7),\n",
       " ('did', 559),\n",
       " ('volume.', 2),\n",
       " ('suspicion', 23),\n",
       " ('too,', 97),\n",
       " ('because', 268),\n",
       " ('profession', 31),\n",
       " ('(though', 5),\n",
       " ('us', 484),\n",
       " ('Pope’s', 4),\n",
       " ('remark', 3),\n",
       " ('without', 720),\n",
       " ('disparaged.', 1),\n",
       " ('passages', 5),\n",
       " ('him;', 142),\n",
       " ('fifty', 16),\n",
       " ('right', 139),\n",
       " ('carefully,', 7),\n",
       " ('side', 97),\n",
       " ('sound', 70),\n",
       " ('scholar,', 2),\n",
       " ('incomparably', 3),\n",
       " ('perhaps', 80),\n",
       " ('Spanish.', 2),\n",
       " ('fact,', 26),\n",
       " ('honest,', 2),\n",
       " ('painstaking', 2),\n",
       " ('left', 298),\n",
       " ('which,', 122),\n",
       " ('shortcomings', 3),\n",
       " ('be,', 124),\n",
       " ('errors', 4),\n",
       " ('mistranslations.', 1),\n",
       " ('charge', 30),\n",
       " ('stiff,', 1),\n",
       " ('word,—and', 1),\n",
       " ('deal', 59),\n",
       " ('flippant,', 2),\n",
       " ('apprehension', 10),\n",
       " ('essence', 4),\n",
       " ('Quixotic', 1),\n",
       " ('grinning', 1),\n",
       " ('own', 404),\n",
       " ('things,', 37),\n",
       " ('everything', 97),\n",
       " ('savouring', 1),\n",
       " ('translation.', 1),\n",
       " ('editions,', 3),\n",
       " ('should', 641),\n",
       " ('observed,', 15),\n",
       " ('smoothed', 3),\n",
       " ('agreeably', 2),\n",
       " ('chief', 18),\n",
       " ('merit', 12),\n",
       " ('1755,', 1),\n",
       " ('At', 111),\n",
       " ('rate', 46),\n",
       " ('construction', 3),\n",
       " ('upon,', 10),\n",
       " ('probably', 16),\n",
       " ('heed', 14),\n",
       " ('words.', 9),\n",
       " ('appeared', 33),\n",
       " ('Translator,”', 1),\n",
       " ('imposture,', 1),\n",
       " ('being', 450),\n",
       " ('here', 261),\n",
       " ('artfully', 2),\n",
       " ('Florian’s,', 1),\n",
       " ('skilfully', 3),\n",
       " ('Miss', 1),\n",
       " ('her', 1777),\n",
       " ('brother’s', 4),\n",
       " ('production', 1),\n",
       " ('former', 26),\n",
       " ('latest,', 1),\n",
       " ('Mr.', 2),\n",
       " ('A.', 1),\n",
       " ('Duffield’s,', 1),\n",
       " ('impertinent', 2),\n",
       " ('proposed', 14),\n",
       " ('vidi', 1),\n",
       " ('obvious', 6),\n",
       " ('reasons', 14),\n",
       " ('From', 36),\n",
       " ('foregoing', 2),\n",
       " ('who,', 115),\n",
       " ('they', 2459),\n",
       " ('narrative', 1),\n",
       " ('complement', 1),\n",
       " ('facts,', 2),\n",
       " ('incidents,', 5),\n",
       " ('up', 715),\n",
       " ('form', 28),\n",
       " ('amuses', 1),\n",
       " ('them,', 342),\n",
       " ('clear', 57),\n",
       " ('desire', 91),\n",
       " ('story', 104),\n",
       " ('tells', 15),\n",
       " ('least', 117),\n",
       " ('circumstances', 13),\n",
       " ('permit,', 1),\n",
       " ('preference', 3),\n",
       " ('conscientious', 3),\n",
       " ('though', 510),\n",
       " ('acquitted', 1),\n",
       " ('awkwardly.', 1),\n",
       " ('antagonism', 1),\n",
       " ('between', 167),\n",
       " ('respect', 34),\n",
       " ('careless', 7),\n",
       " ('question', 49),\n",
       " ('fault', 30),\n",
       " ('rests', 3),\n",
       " ('method', 3),\n",
       " ('ear', 21),\n",
       " ('ought,', 7),\n",
       " ('mutandis,', 1),\n",
       " ('equally', 6),\n",
       " ('readers.', 4),\n",
       " ('rate,', 19),\n",
       " ('matter', 108),\n",
       " ('duty', 26),\n",
       " ('matter.', 6),\n",
       " ('If', 113),\n",
       " ('parties,', 4),\n",
       " ('better;', 6),\n",
       " ('power', 64),\n",
       " ('letter', 72),\n",
       " ('dogmatise', 1),\n",
       " ('rules', 16),\n",
       " ('follow,', 5),\n",
       " ('instance.', 1),\n",
       " ('rigidly', 1),\n",
       " ('translating', 2),\n",
       " ('avoid', 25),\n",
       " ('indeed,', 34),\n",
       " ('protest', 2),\n",
       " ('abhorred', 2),\n",
       " ('reason,', 30),\n",
       " ('obsolete', 1),\n",
       " ('language', 52),\n",
       " ('resisted.', 1),\n",
       " ('undergone', 5),\n",
       " ('Europe,', 3),\n",
       " ('certainly', 19),\n",
       " ('tales', 11),\n",
       " ('uses', 5),\n",
       " ('plainest', 1),\n",
       " ('always', 152),\n",
       " ('nearest', 6),\n",
       " ('Seeing', 22),\n",
       " ('characters', 9),\n",
       " ('changed', 42),\n",
       " ('reason.', 8),\n",
       " ('holds', 17),\n",
       " ('receive', 50),\n",
       " ('deserves,', 4),\n",
       " ('bound', 82),\n",
       " ('laid', 76),\n",
       " ('Morisco', 14),\n",
       " ('Chap.', 1),\n",
       " ('add', 24),\n",
       " ('anything.', 3),\n",
       " ('II:', 1),\n",
       " ('Four', 5),\n",
       " ('generations', 3),\n",
       " ('laughed', 19),\n",
       " ('before', 385),\n",
       " ('occurred', 19),\n",
       " ('ask,', 12),\n",
       " ('manner', 24),\n",
       " ('answer', 129),\n",
       " ('instance', 5),\n",
       " ('1738.', 1),\n",
       " ('All', 110),\n",
       " ('traces', 1),\n",
       " ('disappeared.', 2),\n",
       " ('floating', 1),\n",
       " ('him,', 736),\n",
       " ('died', 22),\n",
       " ('sixteenth', 4),\n",
       " ('reproach', 8),\n",
       " ('secured', 12),\n",
       " ('Siscar,', 1),\n",
       " ('task', 20),\n",
       " ('Rios,', 1),\n",
       " ('Navarrete,', 3),\n",
       " ('prefaces', 2),\n",
       " ('such', 788),\n",
       " ('pieces', 17),\n",
       " ('documentary', 1),\n",
       " ('evidence', 12),\n",
       " ('find.', 3),\n",
       " ('This,', 19),\n",
       " ('done', 179),\n",
       " ('biographer', 1),\n",
       " ('Thoroughness', 1),\n",
       " ('Navarrete’s', 1),\n",
       " ('sifting,', 1),\n",
       " ('testing,', 1),\n",
       " ('rare', 31),\n",
       " ('brought', 191),\n",
       " ('left,', 10),\n",
       " ('saying', 147),\n",
       " ('unturned', 1),\n",
       " ('anything', 182),\n",
       " ('illustrate', 1),\n",
       " ('might', 397),\n",
       " ('possibly', 10),\n",
       " ('found.', 3),\n",
       " ('Navarrete', 2),\n",
       " ('industry', 3),\n",
       " ('want.', 2),\n",
       " ('What', 108),\n",
       " ('says', 94),\n",
       " ('applied', 5),\n",
       " ('parallel', 1),\n",
       " ('Cervantes:', 2),\n",
       " ('baptism,', 3),\n",
       " ('orthography', 1),\n",
       " ('writing,', 4),\n",
       " ('conversation,', 20),\n",
       " ('therefore,', 34),\n",
       " ('biographers', 5),\n",
       " ('Cervantes,', 12),\n",
       " ('brick', 1),\n",
       " ('straw,', 2),\n",
       " ('conjecture,', 2),\n",
       " ('conjecture', 6),\n",
       " ('come', 553),\n",
       " ('take', 518),\n",
       " ('place', 161),\n",
       " ('established', 13),\n",
       " ('fact.', 1),\n",
       " ('separate', 9),\n",
       " ('leave', 219),\n",
       " ('reader’s', 1),\n",
       " ('inference', 2),\n",
       " ('not.', 11),\n",
       " ('consent', 20),\n",
       " ('stand', 53),\n",
       " ('rank', 27),\n",
       " ('literature,', 5),\n",
       " ('Vega,', 2),\n",
       " ('Quevedo,', 1),\n",
       " ('Garcilaso', 2),\n",
       " ('la', 15),\n",
       " ('Mendozas,', 2),\n",
       " ('ancient', 27),\n",
       " ('and,', 183),\n",
       " ('curiously,', 1),\n",
       " ('last,', 16),\n",
       " ('families', 8),\n",
       " ('origin', 10),\n",
       " ('district', 5),\n",
       " ('North', 2),\n",
       " ('Spain.', 10),\n",
       " ('Galician', 2),\n",
       " ('origin,', 2),\n",
       " ('lands', 6),\n",
       " ('date;', 1),\n",
       " ('balance', 4),\n",
       " ('tends', 5),\n",
       " ('corner', 17),\n",
       " ('Castile,', 4),\n",
       " ('Leon,', 4),\n",
       " ('Asturias.', 1),\n",
       " ('tenth', 3),\n",
       " ('extant', 2),\n",
       " ('title', 31),\n",
       " ('Ancestry,', 1),\n",
       " ('Glorious', 1),\n",
       " ('Deeds,', 1),\n",
       " ('Nuno', 2),\n",
       " ('Toledo,”', 1),\n",
       " ('written', 64),\n",
       " ('Rodrigo', 13),\n",
       " ('Silva,', 1),\n",
       " ('manuscript', 3),\n",
       " ('Mena,', 1),\n",
       " ('poet', 38),\n",
       " ('laureate', 1),\n",
       " ('historiographer', 1),\n",
       " ('II.', 5),\n",
       " ('curious.', 1),\n",
       " ('distinguished', 13),\n",
       " ('struggle', 10),\n",
       " ('reign', 3),\n",
       " ('VI,', 1),\n",
       " ('rewarded', 5),\n",
       " ('divers', 15),\n",
       " ('grants', 5),\n",
       " ('land', 31),\n",
       " ('acquisitions,', 1),\n",
       " ('leagues', 32),\n",
       " ('city,', 34),\n",
       " ('built', 8),\n",
       " ('castle', 85),\n",
       " ('called', 230),\n",
       " ('“he', 11),\n",
       " ('lord', 90),\n",
       " ('solar', 1),\n",
       " ('region', 11),\n",
       " ('extending', 4),\n",
       " ('Basque', 1),\n",
       " ('Leon', 3),\n",
       " ('called.', 1),\n",
       " ('battle', 50),\n",
       " ('passed', 108),\n",
       " ('territorial', 2),\n",
       " ('vogue', 5),\n",
       " ('took', 295),\n",
       " ('eldest', 7),\n",
       " ('Pedro', 63),\n",
       " ('adopting', 4),\n",
       " ('Everyone', 1),\n",
       " ('flying', 21),\n",
       " ('remember', 54),\n",
       " ('ruined', 3),\n",
       " ('crowns', 38),\n",
       " ('spot', 41),\n",
       " ('bridge', 7),\n",
       " ('spans', 1),\n",
       " ('Alcazar', 1),\n",
       " ('side.', 6),\n",
       " ('built,', 2),\n",
       " ('restored,', 1),\n",
       " ('shortly', 16),\n",
       " ('Servando', 1),\n",
       " ('subsequently', 1),\n",
       " ('appears', 19),\n",
       " ('“Poem', 1),\n",
       " ('Cid”),', 1),\n",
       " ('regard', 39),\n",
       " ('Spain”', 1),\n",
       " ('warns', 1),\n",
       " ('Ford,', 1),\n",
       " ('counsellor', 1),\n",
       " ('wrong', 58),\n",
       " ('instance,', 4),\n",
       " ('error.', 1),\n",
       " ('to-day.', 4),\n",
       " ('mentioned,', 23),\n",
       " ('relish', 12),\n",
       " ('brother', 51),\n",
       " ('right,', 29),\n",
       " ('reality', 12),\n",
       " ('derived', 8),\n",
       " ('set-off,', 1),\n",
       " ('bank', 2),\n",
       " ('great-grandfather', 1),\n",
       " ('brothers', 12),\n",
       " ('founded', 8),\n",
       " ('families.', 1),\n",
       " ('branch', 4),\n",
       " ('sent', 74),\n",
       " ('offshoots', 1),\n",
       " ('directions,', 4),\n",
       " ('Estremadura,', 3),\n",
       " ('Portugal,', 4),\n",
       " ('line', 21),\n",
       " ('service', 62),\n",
       " ('State.', 1),\n",
       " ('Gonzalo', 7),\n",
       " ('himself,', 128),\n",
       " ('campaign', 2),\n",
       " ('Cordova', 5),\n",
       " ('Seville', 16),\n",
       " ('Christian', 86),\n",
       " ('kingdom', 43),\n",
       " ('Granada,', 3),\n",
       " ('descendants', 4),\n",
       " ('intermarried', 1),\n",
       " ('noblest', 2),\n",
       " ('Peninsula', 2),\n",
       " ...]"
      ]
     },
     "execution_count": 66,
     "metadata": {},
     "output_type": "execute_result"
    }
   ],
   "source": [
    "words_quixote.flatMap(lambda x: x.split(\" \")).map(lambda x: (x, 1)).reduceByKey(lambda x,y: x+y).collect()"
   ]
  },
  {
   "cell_type": "code",
   "execution_count": 67,
   "id": "b24776c8-e7cb-4e90-8c4d-f437aad9be37",
   "metadata": {},
   "outputs": [],
   "source": [
    "# Calcular la media de una lista"
   ]
  },
  {
   "cell_type": "code",
   "execution_count": null,
   "id": "2c2de06b-7ed0-4a0f-b1d7-9995ff5c9fd8",
   "metadata": {},
   "outputs": [],
   "source": [
    "rdd = sc.parallelize([1,2,3,4,5,6,7,8])"
   ]
  },
  {
   "cell_type": "code",
   "execution_count": 75,
   "id": "5afe4ea6-2258-4084-a422-7028d410e292",
   "metadata": {},
   "outputs": [
    {
     "data": {
      "text/plain": [
       "(36, 8)"
      ]
     },
     "execution_count": 75,
     "metadata": {},
     "output_type": "execute_result"
    }
   ],
   "source": [
    "rdd.map(lambda x: (x,1)).reduce(lambda x,y : (x[0] + y[0], x[1] + y[1]))"
   ]
  },
  {
   "cell_type": "code",
   "execution_count": 81,
   "id": "b162e574-5bb5-4982-a3d6-2a1b692662ae",
   "metadata": {},
   "outputs": [],
   "source": [
    "def contar(nums):\n",
    "    sumatorio = [0,0]\n",
    "    for num in nums:\n",
    "        sumatorio[0] += num\n",
    "        sumatorio[1] += 1\n",
    "    return [sumatorio]"
   ]
  },
  {
   "cell_type": "code",
   "execution_count": 80,
   "id": "8aa7ded6-7fb7-4a88-bd01-e60241cd7826",
   "metadata": {},
   "outputs": [
    {
     "data": {
      "text/plain": [
       "16"
      ]
     },
     "execution_count": 80,
     "metadata": {},
     "output_type": "execute_result"
    }
   ],
   "source": [
    "rdd.getNumPartitions()"
   ]
  },
  {
   "cell_type": "code",
   "execution_count": 82,
   "id": "0485bb47-1c88-444f-8397-caf8ccd4fefb",
   "metadata": {},
   "outputs": [
    {
     "data": {
      "text/plain": [
       "[[0, 0],\n",
       " [1, 1],\n",
       " [0, 0],\n",
       " [2, 1],\n",
       " [0, 0],\n",
       " [3, 1],\n",
       " [0, 0],\n",
       " [4, 1],\n",
       " [0, 0],\n",
       " [5, 1],\n",
       " [0, 0],\n",
       " [6, 1],\n",
       " [0, 0],\n",
       " [7, 1],\n",
       " [0, 0],\n",
       " [8, 1]]"
      ]
     },
     "execution_count": 82,
     "metadata": {},
     "output_type": "execute_result"
    }
   ],
   "source": [
    "rdd.mapPartitions(contar).collect().reduce(lambda x,y : (x[0] + y[0], x[1] + y[1]))"
   ]
  },
  {
   "cell_type": "code",
   "execution_count": 84,
   "id": "cf597bb2-823d-423e-8e76-c90d8ab469ee",
   "metadata": {},
   "outputs": [
    {
     "data": {
      "text/plain": [
       "(36, 8)"
      ]
     },
     "execution_count": 84,
     "metadata": {},
     "output_type": "execute_result"
    }
   ],
   "source": [
    "rdd.mapPartitions(contar).reduce(lambda x,y : (x[0] + y[0], x[1] + y[1]))"
   ]
  },
  {
   "cell_type": "markdown",
   "id": "6bab4a5f-5c97-4b13-951a-777a048e89fe",
   "metadata": {},
   "source": [
    "## Spark SQL"
   ]
  },
  {
   "cell_type": "code",
   "execution_count": 85,
   "id": "026d5296-8c50-47a1-af67-6ed2eba75db6",
   "metadata": {},
   "outputs": [],
   "source": [
    "from pyspark.sql import SparkSession\n",
    "\n",
    "spark = SparkSession \\\n",
    "    .builder \\\n",
    "    .master(\"local[*]\") \\\n",
    "    .appName(\"Sesion 2\") \\\n",
    "    .getOrCreate()\n",
    "\n",
    "sc = spark.sparkContext"
   ]
  },
  {
   "cell_type": "code",
   "execution_count": 86,
   "id": "a714df51-b220-437d-90a1-9c03901e885b",
   "metadata": {},
   "outputs": [
    {
     "data": {
      "text/html": [
       "\n",
       "        <div>\n",
       "            <p><b>SparkContext</b></p>\n",
       "\n",
       "            <p><a href=\"http://DESKTOP-COCUL63:4040\">Spark UI</a></p>\n",
       "\n",
       "            <dl>\n",
       "              <dt>Version</dt>\n",
       "                <dd><code>v3.5.0</code></dd>\n",
       "              <dt>Master</dt>\n",
       "                <dd><code>local[*]</code></dd>\n",
       "              <dt>AppName</dt>\n",
       "                <dd><code>T-systems: segunda sesion</code></dd>\n",
       "            </dl>\n",
       "        </div>\n",
       "        "
      ],
      "text/plain": [
       "<SparkContext master=local[*] appName=T-systems: segunda sesion>"
      ]
     },
     "execution_count": 86,
     "metadata": {},
     "output_type": "execute_result"
    }
   ],
   "source": [
    "sc"
   ]
  },
  {
   "cell_type": "code",
   "execution_count": 87,
   "id": "decc6229-5d85-4551-bdd6-6c990187f694",
   "metadata": {},
   "outputs": [],
   "source": [
    "from pyspark import Row"
   ]
  },
  {
   "cell_type": "code",
   "execution_count": 88,
   "id": "18b72c7e-03df-436a-9868-27a5b011560e",
   "metadata": {},
   "outputs": [],
   "source": [
    "row = Row(nombre = \"Ruben\", edad = 22)"
   ]
  },
  {
   "cell_type": "code",
   "execution_count": 93,
   "id": "88736094-b473-4590-878d-883bd37b2677",
   "metadata": {},
   "outputs": [
    {
     "data": {
      "text/plain": [
       "('Ruben', 'Ruben')"
      ]
     },
     "execution_count": 93,
     "metadata": {},
     "output_type": "execute_result"
    }
   ],
   "source": [
    "row.nombre, row['nombre']"
   ]
  },
  {
   "cell_type": "code",
   "execution_count": 102,
   "id": "ac021d27-f25b-4cd2-b5d1-d396a4f4bac7",
   "metadata": {},
   "outputs": [],
   "source": [
    "df = spark.createDataFrame([('Ruben', 22), ('Paula', 21)], ['nombre', 'edad']) #siempre espera mas de una cosa"
   ]
  },
  {
   "cell_type": "code",
   "execution_count": 103,
   "id": "8b6c63d0-d4ac-49d0-ad70-7fce73e8d4e8",
   "metadata": {},
   "outputs": [
    {
     "data": {
      "text/plain": [
       "[Row(nombre='Ruben', edad=22), Row(nombre='Paula', edad=21)]"
      ]
     },
     "execution_count": 103,
     "metadata": {},
     "output_type": "execute_result"
    }
   ],
   "source": [
    "df.collect()"
   ]
  },
  {
   "cell_type": "code",
   "execution_count": 104,
   "id": "023241ea-c227-4251-9631-d7740641c1cf",
   "metadata": {},
   "outputs": [
    {
     "name": "stdout",
     "output_type": "stream",
     "text": [
      "+------+----+\n",
      "|nombre|edad|\n",
      "+------+----+\n",
      "| Ruben|  22|\n",
      "| Paula|  21|\n",
      "+------+----+\n",
      "\n"
     ]
    }
   ],
   "source": [
    "df.show()"
   ]
  },
  {
   "cell_type": "code",
   "execution_count": 105,
   "id": "f5d91ae7-8162-43ab-883e-0ca6ec741961",
   "metadata": {},
   "outputs": [
    {
     "name": "stdout",
     "output_type": "stream",
     "text": [
      "root\n",
      " |-- nombre: string (nullable = true)\n",
      " |-- edad: long (nullable = true)\n",
      "\n"
     ]
    }
   ],
   "source": [
    "df.printSchema()"
   ]
  },
  {
   "cell_type": "code",
   "execution_count": 107,
   "id": "80d7c2e7-856f-4b7e-8df5-6102e9d37e15",
   "metadata": {},
   "outputs": [
    {
     "data": {
      "text/plain": [
       "[('Ruben', 22), ('Paula', 21)]"
      ]
     },
     "execution_count": 107,
     "metadata": {},
     "output_type": "execute_result"
    }
   ],
   "source": [
    "rdd = sc.parallelize([('Ruben', 22), ('Paula', 21)])\n",
    "rdd.collect()"
   ]
  },
  {
   "cell_type": "code",
   "execution_count": 108,
   "id": "9748429e-e180-4825-b3ec-9ce5b4fa8812",
   "metadata": {},
   "outputs": [],
   "source": [
    "df2 = spark.createDataFrame(rdd)"
   ]
  },
  {
   "cell_type": "code",
   "execution_count": 1,
   "id": "91df3951-03d2-48da-97b0-c0d02d3ef486",
   "metadata": {},
   "outputs": [
    {
     "ename": "NameError",
     "evalue": "name 'df2' is not defined",
     "output_type": "error",
     "traceback": [
      "\u001b[1;31m---------------------------------------------------------------------------\u001b[0m",
      "\u001b[1;31mNameError\u001b[0m                                 Traceback (most recent call last)",
      "Cell \u001b[1;32mIn[1], line 1\u001b[0m\n\u001b[1;32m----> 1\u001b[0m \u001b[43mdf2\u001b[49m\u001b[38;5;241m.\u001b[39mshow(\u001b[38;5;241m1\u001b[39m)\n",
      "\u001b[1;31mNameError\u001b[0m: name 'df2' is not defined"
     ]
    }
   ],
   "source": [
    "df2.show(1)"
   ]
  },
  {
   "cell_type": "code",
   "execution_count": 113,
   "id": "6861b7fc-ef4f-449c-9d08-e539bc173551",
   "metadata": {},
   "outputs": [
    {
     "data": {
      "text/plain": [
       "[Row(nombre='Ruben', edad=22), Row(nombre='Paula', edad=21)]"
      ]
     },
     "execution_count": 113,
     "metadata": {},
     "output_type": "execute_result"
    }
   ],
   "source": [
    "df.rdd.collect()"
   ]
  },
  {
   "cell_type": "code",
   "execution_count": 112,
   "id": "1c76e322-bacb-4a56-b216-afe77c0c76ba",
   "metadata": {},
   "outputs": [
    {
     "data": {
      "text/plain": [
       "['Ruben', 'Paula']"
      ]
     },
     "execution_count": 112,
     "metadata": {},
     "output_type": "execute_result"
    }
   ],
   "source": [
    "df.rdd.map(lambda x: x.nombre).collect()"
   ]
  }
 ],
 "metadata": {
  "kernelspec": {
   "display_name": "Python 3 (ipykernel)",
   "language": "python",
   "name": "python3"
  },
  "language_info": {
   "codemirror_mode": {
    "name": "ipython",
    "version": 3
   },
   "file_extension": ".py",
   "mimetype": "text/x-python",
   "name": "python",
   "nbconvert_exporter": "python",
   "pygments_lexer": "ipython3",
   "version": "3.11.6"
  }
 },
 "nbformat": 4,
 "nbformat_minor": 5
}
