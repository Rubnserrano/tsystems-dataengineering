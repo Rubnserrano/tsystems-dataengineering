{
 "cells": [
  {
   "cell_type": "code",
   "execution_count": null,
   "id": "6136f5be-a667-4753-9b11-0741499a0ea8",
   "metadata": {},
   "outputs": [],
   "source": [
    "# K-medias"
   ]
  },
  {
   "cell_type": "code",
   "execution_count": 1,
   "id": "aaac72e2-6515-468b-9333-29c0f7b570c4",
   "metadata": {},
   "outputs": [],
   "source": [
    "from pyspark.sql import SparkSession\n",
    "\n",
    "spark = SparkSession \\\n",
    "    .builder \\\n",
    "    .master(\"local[*]\") \\\n",
    "    .appName(\"T-systems: sexta sesion. K-means\") \\\n",
    "    .getOrCreate()\n",
    "\n",
    "sc = spark.sparkContext"
   ]
  },
  {
   "cell_type": "code",
   "execution_count": 3,
   "id": "786cbf0a-6b44-43f1-89f3-fbca4c8a38b3",
   "metadata": {},
   "outputs": [],
   "source": [
    "df = spark.read.csv(\"C:\\\\Users\\\\ruben\\\\Desktop\\\\data engineering\\\\s5-pysparkML\\\\results.csv\", header = True)"
   ]
  },
  {
   "cell_type": "code",
   "execution_count": 4,
   "id": "a4142d7b-f2a6-4c85-89d7-db3c45501d62",
   "metadata": {},
   "outputs": [],
   "source": [
    "import pyspark.sql.functions as sql_f"
   ]
  },
  {
   "cell_type": "code",
   "execution_count": 5,
   "id": "ca2fdc6e-e721-44c4-bda8-4a5c10f05aa2",
   "metadata": {},
   "outputs": [],
   "source": [
    "df = df.select([sql_f.col(c).cast('float') for c in ['Ex01','Ex02','Ex03','Ex04','Project']]).cache()"
   ]
  },
  {
   "cell_type": "code",
   "execution_count": 6,
   "id": "bf890c12-f971-43d1-b912-dc7ae7d9c626",
   "metadata": {},
   "outputs": [
    {
     "name": "stdout",
     "output_type": "stream",
     "text": [
      "+-----+-----+-----+----+-------+\n",
      "| Ex01| Ex02| Ex03|Ex04|Project|\n",
      "+-----+-----+-----+----+-------+\n",
      "|100.0| 85.0| 80.0|70.0|   80.0|\n",
      "|100.0| 85.0| 80.0|90.0|   93.0|\n",
      "|100.0|100.0| 85.0|30.0|   70.0|\n",
      "| 95.0| 95.0|100.0|55.0|   87.0|\n",
      "| 65.0| 95.0| 65.0|25.0|   70.0|\n",
      "+-----+-----+-----+----+-------+\n",
      "only showing top 5 rows\n",
      "\n"
     ]
    }
   ],
   "source": [
    "df.show(5)"
   ]
  },
  {
   "cell_type": "code",
   "execution_count": 7,
   "id": "6c458548-8164-4215-896a-12ef14a8c9e0",
   "metadata": {},
   "outputs": [],
   "source": [
    "features_col = df.columns"
   ]
  },
  {
   "cell_type": "code",
   "execution_count": 9,
   "id": "66de7f9b-9538-4c29-8cef-22d5b6d952c0",
   "metadata": {},
   "outputs": [],
   "source": [
    "from pyspark.ml.feature import VectorAssembler\n",
    "assembler = VectorAssembler(inputCols = features_col, outputCol = \"features\")\n",
    "df = assembler.transform(df)"
   ]
  },
  {
   "cell_type": "code",
   "execution_count": 11,
   "id": "81434561-389b-461f-b60e-acde4d085ebb",
   "metadata": {},
   "outputs": [
    {
     "name": "stdout",
     "output_type": "stream",
     "text": [
      "+-----+-----+-----+----+-------+--------------------+\n",
      "| Ex01| Ex02| Ex03|Ex04|Project|            features|\n",
      "+-----+-----+-----+----+-------+--------------------+\n",
      "|100.0| 85.0| 80.0|70.0|   80.0|[100.0,85.0,80.0,...|\n",
      "|100.0| 85.0| 80.0|90.0|   93.0|[100.0,85.0,80.0,...|\n",
      "|100.0|100.0| 85.0|30.0|   70.0|[100.0,100.0,85.0...|\n",
      "| 95.0| 95.0|100.0|55.0|   87.0|[95.0,95.0,100.0,...|\n",
      "+-----+-----+-----+----+-------+--------------------+\n",
      "only showing top 4 rows\n",
      "\n"
     ]
    }
   ],
   "source": [
    "df.show(4)"
   ]
  },
  {
   "cell_type": "code",
   "execution_count": 13,
   "id": "8dbf18a5-4eba-438e-aeed-b8eccc3f5495",
   "metadata": {},
   "outputs": [
    {
     "name": "stdout",
     "output_type": "stream",
     "text": [
      "+--------------------+\n",
      "|            features|\n",
      "+--------------------+\n",
      "|[100.0,85.0,80.0,...|\n",
      "|[100.0,85.0,80.0,...|\n",
      "|[100.0,100.0,85.0...|\n",
      "|[95.0,95.0,100.0,...|\n",
      "|[65.0,95.0,65.0,2...|\n",
      "+--------------------+\n",
      "only showing top 5 rows\n",
      "\n"
     ]
    }
   ],
   "source": [
    "df = df.select(\"features\")\n",
    "df.show(5)"
   ]
  },
  {
   "cell_type": "code",
   "execution_count": 24,
   "id": "958abd5e-13e4-4a24-95d0-31ef2f2f78f6",
   "metadata": {},
   "outputs": [],
   "source": [
    "from pyspark.ml.feature import MinMaxScaler\n",
    "scaler = MinMaxScaler(inputCol = \"features\", outputCol = \"scaled_features\")\n",
    "scaler_model = scaler.fit(df)\n",
    "df = scaler_model.transform(df)"
   ]
  },
  {
   "cell_type": "code",
   "execution_count": 25,
   "id": "ab133900-a927-47b5-afcf-3935acf64d36",
   "metadata": {},
   "outputs": [
    {
     "name": "stdout",
     "output_type": "stream",
     "text": [
      "+---------------------------------------------------------+---------------------------------------------------------+\n",
      "|features                                                 |scaled_features                                          |\n",
      "+---------------------------------------------------------+---------------------------------------------------------+\n",
      "|[1.0,0.625,0.6363636363636364,0.7000000000000001,0.8]    |[1.0,0.625,0.6363636363636364,0.7000000000000001,0.8]    |\n",
      "|[1.0,0.625,0.6363636363636364,0.9,0.93]                  |[1.0,0.625,0.6363636363636364,0.9,0.93]                  |\n",
      "|[1.0,1.0,0.7272727272727273,0.3,0.7000000000000001]      |[1.0,1.0,0.7272727272727273,0.3,0.7000000000000001]      |\n",
      "|[0.875,0.875,1.0,0.55,0.87]                              |[0.875,0.875,1.0,0.55,0.87]                              |\n",
      "|[0.125,0.875,0.36363636363636365,0.25,0.7000000000000001]|[0.125,0.875,0.36363636363636365,0.25,0.7000000000000001]|\n",
      "+---------------------------------------------------------+---------------------------------------------------------+\n",
      "only showing top 5 rows\n",
      "\n"
     ]
    }
   ],
   "source": [
    "df.show(5, truncate = False)"
   ]
  },
  {
   "cell_type": "code",
   "execution_count": 26,
   "id": "2de2c966-bec2-4d26-84bb-5b59442db26e",
   "metadata": {},
   "outputs": [],
   "source": [
    "df = df.select(df[\"scaled_features\"].alias(\"features\")).cache()"
   ]
  },
  {
   "cell_type": "code",
   "execution_count": 27,
   "id": "bf14b41b-1df6-4065-b72b-a1337554c6d4",
   "metadata": {},
   "outputs": [
    {
     "name": "stdout",
     "output_type": "stream",
     "text": [
      "+--------------------+\n",
      "|            features|\n",
      "+--------------------+\n",
      "|[1.0,0.625,0.6363...|\n",
      "|[1.0,0.625,0.6363...|\n",
      "|[1.0,1.0,0.727272...|\n",
      "|[0.875,0.875,1.0,...|\n",
      "|[0.125,0.875,0.36...|\n",
      "+--------------------+\n",
      "only showing top 5 rows\n",
      "\n"
     ]
    }
   ],
   "source": [
    "df.show(5)"
   ]
  },
  {
   "cell_type": "code",
   "execution_count": null,
   "id": "f3830046-b71a-4b0a-88b8-fec138affb3a",
   "metadata": {},
   "outputs": [],
   "source": [
    "k = 2"
   ]
  },
  {
   "cell_type": "code",
   "execution_count": 35,
   "id": "1a6db8e1-bf18-489c-bd4b-35508d2fef9c",
   "metadata": {},
   "outputs": [],
   "source": [
    "centroids = df.sample(fraction = 0.3, seed = 123456789).limit(k).collect()"
   ]
  },
  {
   "cell_type": "code",
   "execution_count": 39,
   "id": "61a0c09f-72fe-4949-b0e3-6ef35ed4dcbc",
   "metadata": {},
   "outputs": [],
   "source": [
    "import numpy as np\n",
    "centroids = np.array(centroids).squeeze()"
   ]
  },
  {
   "cell_type": "code",
   "execution_count": 41,
   "id": "2c2fdde1-2697-4449-9d7e-58907f47fabb",
   "metadata": {},
   "outputs": [],
   "source": [
    "def dist(a,b, axis=1):\n",
    "    return np.sqrt(np.sum((a-b)**2, axis = axis))"
   ]
  },
  {
   "cell_type": "code",
   "execution_count": 42,
   "id": "874225db-08e7-4938-abf4-dd57894d9a66",
   "metadata": {},
   "outputs": [],
   "source": [
    "centroids_bc = sc.broadcast(centroids)"
   ]
  },
  {
   "cell_type": "code",
   "execution_count": 43,
   "id": "8dbd8d7b-e84a-4f54-aea7-15afe37d297c",
   "metadata": {},
   "outputs": [
    {
     "data": {
      "text/plain": [
       "array([[1.        , 0.625     , 0.63636364, 0.7       , 0.8       ],\n",
       "       [0.75      , 0.375     , 1.        , 0.9       , 0.74      ]])"
      ]
     },
     "execution_count": 43,
     "metadata": {},
     "output_type": "execute_result"
    }
   ],
   "source": [
    "centroids_bc.value"
   ]
  },
  {
   "cell_type": "code",
   "execution_count": null,
   "id": "58ed64cf-2d2a-4dad-a4b4-a75a4dc6dec2",
   "metadata": {},
   "outputs": [],
   "source": [
    "## calcular centroide mas cercano"
   ]
  },
  {
   "cell_type": "code",
   "execution_count": 44,
   "id": "6be6547d-0d30-4f79-a914-e16f3b1aa022",
   "metadata": {},
   "outputs": [],
   "source": [
    "closest_centroid = sql_f.udf(\n",
    "    lambda x: int(np.argmin(dist(centroids_bc.value, x)))\n",
    ")"
   ]
  },
  {
   "cell_type": "code",
   "execution_count": 45,
   "id": "5c4615a7-a80d-4b7c-9c73-9cb19c2de93e",
   "metadata": {},
   "outputs": [],
   "source": [
    "df_closest = df.withColumn(\"closest\", closest_centroid(\"features\"))"
   ]
  },
  {
   "cell_type": "code",
   "execution_count": 48,
   "id": "27b0de69-180d-4d63-a5f9-afa9c2babfc3",
   "metadata": {},
   "outputs": [
    {
     "name": "stdout",
     "output_type": "stream",
     "text": [
      "+--------------------+-------+\n",
      "|            features|closest|\n",
      "+--------------------+-------+\n",
      "|[1.0,0.625,0.6363...|      0|\n",
      "|[1.0,0.625,0.6363...|      0|\n",
      "|[1.0,1.0,0.727272...|      0|\n",
      "|[0.875,0.875,1.0,...|      0|\n",
      "|[0.125,0.875,0.36...|      0|\n",
      "|[0.75,0.75,0.6363...|      0|\n",
      "|[0.875,0.625,1.0,...|      1|\n",
      "|[1.0,0.625,0.6363...|      0|\n",
      "|[0.5,0.75,0.81818...|      1|\n",
      "|[0.75,0.375,1.0,0...|      1|\n",
      "+--------------------+-------+\n",
      "only showing top 10 rows\n",
      "\n"
     ]
    }
   ],
   "source": [
    "df_closest.show(10)"
   ]
  },
  {
   "cell_type": "code",
   "execution_count": 51,
   "id": "7b7d38e3-d0e3-4692-8cb7-0ba10e799cbc",
   "metadata": {},
   "outputs": [],
   "source": [
    "from pyspark.ml.stat import Summarizer"
   ]
  },
  {
   "cell_type": "code",
   "execution_count": 52,
   "id": "e84a9611-6ca1-45b9-b813-5311f931dd27",
   "metadata": {},
   "outputs": [],
   "source": [
    "new_centroids = df_closest.groupBy(\"closest\")\\\n",
    "                          .agg(Summarizer.mean(sql_f.col(\"features\")))"
   ]
  },
  {
   "cell_type": "code",
   "execution_count": 54,
   "id": "44de6bae-8d83-471f-985c-a5e1469e16ab",
   "metadata": {},
   "outputs": [
    {
     "name": "stdout",
     "output_type": "stream",
     "text": [
      "+-------+-----------------------------------------------------------------------------------------------+\n",
      "|closest|mean(features)                                                                                 |\n",
      "+-------+-----------------------------------------------------------------------------------------------+\n",
      "|0      |[0.8499999999999999,0.722222222222222,0.6323232323232324,0.7033333333333335,0.7813333333333333]|\n",
      "|1      |[0.5937499999999999,0.4609375000000001,0.7670454545454546,0.83125,0.723125]                    |\n",
      "+-------+-----------------------------------------------------------------------------------------------+\n",
      "\n"
     ]
    }
   ],
   "source": [
    "new_centroids.show(5, truncate = False)"
   ]
  },
  {
   "cell_type": "code",
   "execution_count": 57,
   "id": "f1faf298-b453-42e5-b33c-9e7328d28787",
   "metadata": {},
   "outputs": [],
   "source": [
    "new_centroids = np.array(new_centroids.select(\"mean(features)\").collect()).squeeze()"
   ]
  },
  {
   "cell_type": "code",
   "execution_count": 58,
   "id": "9693c344-3708-4707-9bc3-983bb3856a96",
   "metadata": {},
   "outputs": [
    {
     "data": {
      "text/plain": [
       "array([[0.85      , 0.72222222, 0.63232323, 0.70333333, 0.78133333],\n",
       "       [0.59375   , 0.4609375 , 0.76704545, 0.83125   , 0.723125  ]])"
      ]
     },
     "execution_count": 58,
     "metadata": {},
     "output_type": "execute_result"
    }
   ],
   "source": [
    "new_centroids"
   ]
  },
  {
   "cell_type": "code",
   "execution_count": 59,
   "id": "c5847436-2f7c-41db-99a2-80a4c3337222",
   "metadata": {},
   "outputs": [],
   "source": [
    "def distributed_kmeans(df, k, fraction, threshold = 0.01, seed = 12345):\n",
    "    #inicializacion\n",
    "    centroids = np.array(df.sample(fraction = fraction, seed = seed).limit(k).collect()).squeeze()\n",
    "\n",
    "    #bucle\n",
    "    while True:\n",
    "        \n",
    "        #broadcast\n",
    "        centroids_bc = sc.broadcast(centroids)   \n",
    "        \n",
    "        #calcular centroide mas cercano\n",
    "        df_closest = df.withColumn(\"closest\", closest_centroid(\"features\"))\n",
    "\n",
    "        #recalcular los centroides\n",
    "        new_centroids = df_closest.groupBy(\"closest\").agg(Summarizer.mean(sql_f.col(\"features\")))\n",
    "\n",
    "        new_centroids = np.array(new_centroids.select(\"mean(features)\").collect()).squeeze()\n",
    "        \n",
    "        if dist(new_centroids, centroids, axis = None) < threshold:\n",
    "            break\n",
    "        else:\n",
    "            centroids = new_centroids\n",
    "    return centroids"
   ]
  },
  {
   "cell_type": "code",
   "execution_count": 60,
   "id": "43c5bc2c-dc65-4d3c-baf5-c6c0d30c133c",
   "metadata": {},
   "outputs": [
    {
     "data": {
      "text/plain": [
       "array([[0.85      , 0.72222222, 0.63232323, 0.70333333, 0.78133333],\n",
       "       [0.59375   , 0.4609375 , 0.76704545, 0.83125   , 0.723125  ]])"
      ]
     },
     "execution_count": 60,
     "metadata": {},
     "output_type": "execute_result"
    }
   ],
   "source": [
    "distributed_kmeans(df, 2, 0.3)"
   ]
  }
 ],
 "metadata": {
  "kernelspec": {
   "display_name": "Python 3 (ipykernel)",
   "language": "python",
   "name": "python3"
  },
  "language_info": {
   "codemirror_mode": {
    "name": "ipython",
    "version": 3
   },
   "file_extension": ".py",
   "mimetype": "text/x-python",
   "name": "python",
   "nbconvert_exporter": "python",
   "pygments_lexer": "ipython3",
   "version": "3.11.6"
  }
 },
 "nbformat": 4,
 "nbformat_minor": 5
}
