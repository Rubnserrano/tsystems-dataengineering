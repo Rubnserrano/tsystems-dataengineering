{
 "cells": [
  {
   "cell_type": "markdown",
   "id": "7daaadd8-2ab1-4de9-b1ac-98dff6ccfe3c",
   "metadata": {},
   "source": [
    "# PySpark"
   ]
  },
  {
   "cell_type": "code",
   "execution_count": 1,
   "id": "b1c8da1e-7c04-4abc-b50d-11677fc40440",
   "metadata": {},
   "outputs": [],
   "source": [
    "from pyspark import SparkConf, SparkContext\n",
    "conf = SparkConf().setMaster(\"local[*]\").setAppName(\"Spark Lab\")\n",
    "sc = SparkContext(conf = conf)"
   ]
  },
  {
   "cell_type": "code",
   "execution_count": 2,
   "id": "803ef145-2f1d-4ccb-965f-c0b905ef9836",
   "metadata": {},
   "outputs": [
    {
     "data": {
      "text/html": [
       "\n",
       "        <div>\n",
       "            <p><b>SparkContext</b></p>\n",
       "\n",
       "            <p><a href=\"http://DESKTOP-COCUL63:4040\">Spark UI</a></p>\n",
       "\n",
       "            <dl>\n",
       "              <dt>Version</dt>\n",
       "                <dd><code>v3.5.0</code></dd>\n",
       "              <dt>Master</dt>\n",
       "                <dd><code>local[*]</code></dd>\n",
       "              <dt>AppName</dt>\n",
       "                <dd><code>Spark Lab</code></dd>\n",
       "            </dl>\n",
       "        </div>\n",
       "        "
      ],
      "text/plain": [
       "<SparkContext master=local[*] appName=Spark Lab>"
      ]
     },
     "execution_count": 2,
     "metadata": {},
     "output_type": "execute_result"
    }
   ],
   "source": [
    "sc"
   ]
  },
  {
   "cell_type": "code",
   "execution_count": 2,
   "id": "003b08b7-1547-4a78-ab1f-079e750e97f6",
   "metadata": {},
   "outputs": [],
   "source": [
    "%matplotlib inline \n",
    "import matplotlib.pyplot as plt\n",
    "import numpy as np\n",
    "\n",
    "# Helper function to test the correctness of the solutions\n",
    "def test(var, val, msg=\"\"):\n",
    "    print(\"1 test passed.\") if var == val else print(\"1 test failed. \" + msg)"
   ]
  },
  {
   "cell_type": "markdown",
   "id": "19b73b6e-2d4e-4d50-958b-6d6baf239b6c",
   "metadata": {},
   "source": [
    "## Ejercicio 0"
   ]
  },
  {
   "cell_type": "code",
   "execution_count": 3,
   "id": "2faf2289-8bbe-428c-917b-befee8f04afc",
   "metadata": {},
   "outputs": [],
   "source": [
    "def word_count_rdd(path):\n",
    "    lines = sc.textFile('C:\\\\Users\\\\ruben\\\\Downloads\\\\quixote.txt')\n",
    "    words = lines.flatMap(lambda line : line.split(' ')).filter(lambda word: word != '')\n",
    "    valores = words.countByValue()\n",
    "    ordenados = sorted(valores.items(), key = lambda x: x[1], reverse = True)[:10]\n",
    "    return ordenados"
   ]
  },
  {
   "cell_type": "code",
   "execution_count": 4,
   "id": "9d61c8b6-8496-4b95-8647-2442d6833aa7",
   "metadata": {},
   "outputs": [
    {
     "data": {
      "text/plain": [
       "[('the', 20923),\n",
       " ('and', 16606),\n",
       " ('to', 13492),\n",
       " ('of', 12866),\n",
       " ('that', 7164),\n",
       " ('a', 7003),\n",
       " ('in', 6860),\n",
       " ('I', 5756),\n",
       " ('he', 5640),\n",
       " ('for', 4534)]"
      ]
     },
     "execution_count": 4,
     "metadata": {},
     "output_type": "execute_result"
    }
   ],
   "source": [
    "word_count_rdd('C:\\\\Users\\\\ruben\\\\Downloads\\\\quixote.txt')"
   ]
  },
  {
   "cell_type": "code",
   "execution_count": 5,
   "id": "f97adb77-4207-4a55-9af1-5a5ac7940ed0",
   "metadata": {},
   "outputs": [
    {
     "name": "stdout",
     "output_type": "stream",
     "text": [
      "[('the', 20923), ('and', 16606), ('to', 13492), ('of', 12866), ('that', 7164), ('a', 7003), ('in', 6860), ('I', 5756), ('he', 5640), ('for', 4534)]\n",
      "1 test passed.\n"
     ]
    }
   ],
   "source": [
    "top10_quixote = word_count_rdd('C:\\\\Users\\\\ruben\\\\Downloads\\\\quixote.txt')\n",
    "print(top10_quixote)\n",
    "test(top10_quixote, [('the', 20923), ('and', 16606), ('to', 13492), ('of', 12866), \n",
    "                                  ('that', 7164), ('a', 7003), ('in', 6860), ('I', 5756), ('he', 5640), \n",
    "                                  ('for', 4534)], \"Try again!\")"
   ]
  },
  {
   "cell_type": "markdown",
   "id": "09000b97-2a5e-496a-8571-9a959afcb32b",
   "metadata": {},
   "source": [
    "# Ejercicio 1 (quitar signos de puntuacion)"
   ]
  },
  {
   "cell_type": "code",
   "execution_count": 6,
   "id": "a474c485-3ddc-4bc5-9cda-77fe4ed491b1",
   "metadata": {},
   "outputs": [],
   "source": [
    "import re\n",
    "def remove_punctuation_symbols(text):\n",
    "    \"\"\"This function converts the string to lower case and removes punctuation symbols and extra spaces\"\"\"\n",
    "    accepted_chars = re.compile(r'[^0-9a-zA-Z ]')\n",
    "    text = accepted_chars.sub(' ', text.lower()).strip()\n",
    "    return re.sub(' +', ' ', text)"
   ]
  },
  {
   "cell_type": "code",
   "execution_count": 7,
   "id": "7417b47c-d9f6-47d6-a0f9-beaabffd1f38",
   "metadata": {},
   "outputs": [
    {
     "data": {
      "text/plain": [
       "[('the', 22471),\n",
       " ('and', 17722),\n",
       " ('to', 14006),\n",
       " ('of', 13491),\n",
       " ('that', 7993),\n",
       " ('in', 7335),\n",
       " ('a', 7287),\n",
       " ('i', 6653),\n",
       " ('he', 6157),\n",
       " ('it', 5680)]"
      ]
     },
     "execution_count": 7,
     "metadata": {},
     "output_type": "execute_result"
    }
   ],
   "source": [
    "def word_count_rdd_2(file_path):\n",
    "  lines=sc.textFile(file_path)\n",
    "  words=lines.map(lambda x: remove_punctuation_symbols(x))\\\n",
    "             .flatMap(lambda x: x.split(' '))\\\n",
    "             .filter(lambda x: x!= '')\\\n",
    "             .map(lambda x: (x,1))\\\n",
    "             .reduceByKey(lambda x,y: x+y)\n",
    "  output=words.takeOrdered(10,key=lambda x: -x[1])\n",
    "  return output\n",
    "\n",
    "word_count_rdd_2('C:\\\\Users\\\\ruben\\\\Downloads\\\\quixote.txt')"
   ]
  },
  {
   "cell_type": "code",
   "execution_count": 8,
   "id": "6c107305-7c84-4361-9858-03b6fab0df3b",
   "metadata": {},
   "outputs": [
    {
     "name": "stdout",
     "output_type": "stream",
     "text": [
      "1 test passed.\n"
     ]
    }
   ],
   "source": [
    "top10_quixote = word_count_rdd_2('C:\\\\Users\\\\ruben\\\\Downloads\\\\quixote.txt')\n",
    "test(top10_quixote, [('the', 22471), ('and', 17722), ('to', 14006), ('of', 13491), ('that', 7993),\n",
    "                                 ('in', 7335), ('a', 7287), ('i', 6653), ('he', 6157), ('it', 5680)],\n",
    "                  'Try again!')"
   ]
  },
  {
   "cell_type": "markdown",
   "id": "f908ee53-3dd4-457e-9a77-a483b2aff084",
   "metadata": {},
   "source": [
    "# Ejercicio 2"
   ]
  },
  {
   "cell_type": "code",
   "execution_count": 9,
   "id": "9e595b74-afd5-4962-a4c6-bf12e0f737ee",
   "metadata": {},
   "outputs": [],
   "source": [
    "stop_words = ['ourselves', 'hers', 'between', 'yourself', 'but', 'again', 'there', \n",
    "              'about', 'once', 'during', 'out', 'very', 'having', 'with', 'they', \n",
    "              'own', 'an', 'be', 'some', 'for', 'do', 'its', 'yours', 'such', 'into',\n",
    "              'of', 'most', 'itself', 'other', 'off', 'is', 's', 'am', 'or', 'who', \n",
    "              'as', 'from', 'him', 'each', 'the', 'themselves', 'until', 'below',\n",
    "              'are', 'we', 'these', 'your', 'his', 'through', 'don', 'nor', 'me',\n",
    "              'were', 'her', 'more', 'himself', 'this', 'down', 'should', 'our', \n",
    "              'their', 'while', 'above', 'both', 'up', 'to', 'ours', 'had', 'she',\n",
    "              'all', 'no', 'when', 'at', 'any', 'before', 'them', 'same', 'and',\n",
    "              'been', 'have', 'in', 'will', 'on', 'does', 'yourselves', 'then', \n",
    "              'that', 'because', 'what', 'over', 'why', 'so', 'can', 'did', 'not',\n",
    "              'now', 'under', 'he', 'you', 'herself', 'has', 'just', 'where', 'too',\n",
    "              'only', 'myself', 'which', 'those', 'i', 'after', 'few', 'whom', 't',\n",
    "              'being', 'if', 'theirs', 'my', 'against', 'a', 'by', 'doing', 'it', \n",
    "              'how', 'further', 'was', 'here', 'than']"
   ]
  },
  {
   "cell_type": "code",
   "execution_count": 10,
   "id": "04696af0-9b46-457a-8aec-af4de034b17b",
   "metadata": {},
   "outputs": [
    {
     "data": {
      "text/plain": [
       "[('the', 22471),\n",
       " ('and', 17722),\n",
       " ('to', 14006),\n",
       " ('of', 13491),\n",
       " ('that', 7993),\n",
       " ('in', 7335),\n",
       " ('a', 7287),\n",
       " ('i', 6653),\n",
       " ('he', 6157),\n",
       " ('it', 5680)]"
      ]
     },
     "execution_count": 10,
     "metadata": {},
     "output_type": "execute_result"
    }
   ],
   "source": [
    "def word_count_rdd_3(file_path):\n",
    "  lines=sc.textFile(file_path)\n",
    "  words=lines.map(lambda x: remove_punctuation_symbols(x))\\\n",
    "             .flatMap(lambda x: x.split(' '))\\\n",
    "             .filter(lambda x: x!= '')\\\n",
    "             .filter(lambda word: word not in stop_words)\\\n",
    "             .map(lambda x: (x,1))\\\n",
    "             .reduceByKey(lambda x,y: x+y)\n",
    "  output=words.takeOrdered(10,key=lambda x: -x[1])\n",
    "  return output\n",
    "\n",
    "word_count_rdd_2('C:\\\\Users\\\\ruben\\\\Downloads\\\\quixote.txt')"
   ]
  },
  {
   "cell_type": "code",
   "execution_count": 11,
   "id": "341aaad9-c399-4709-a6c8-aff08f7fd941",
   "metadata": {},
   "outputs": [
    {
     "name": "stdout",
     "output_type": "stream",
     "text": [
      "1 test passed.\n"
     ]
    }
   ],
   "source": [
    "top10_quixote = word_count_rdd_3('C:\\\\Users\\\\ruben\\\\Downloads\\\\quixote.txt')\n",
    "test(top10_quixote, [('said', 2627), ('quixote', 2327), ('sancho', 2205), ('one', 1623), ('would', 1251),\n",
    "                                  ('thou', 1229), ('say', 904), ('good', 889), ('may', 855), ('see', 774)],\n",
    "                  'Try again!')"
   ]
  },
  {
   "cell_type": "markdown",
   "id": "ed803928-88b1-4f56-ab42-c3276be03e48",
   "metadata": {},
   "source": [
    "## Ejercicio 1. Histograma"
   ]
  },
  {
   "cell_type": "code",
   "execution_count": 17,
   "id": "0a7220b5-f0aa-4b0b-b8ea-c823ec42063a",
   "metadata": {},
   "outputs": [
    {
     "data": {
      "image/png": "[encoded data removed]",
      "text/plain": [
       "<Figure size 640x480 with 1 Axes>"
      ]
     },
     "metadata": {},
     "output_type": "display_data"
    }
   ],
   "source": [
    "def histogram_reps(path):\n",
    "    lines=sc.textFile(path)\n",
    "    words=lines.map(lambda x: remove_punctuation_symbols(x)).flatMap(lambda x: x.split(' ')).filter(lambda x: x!= '')\\\n",
    "    .map(lambda x: (x,1)).reduceByKey(lambda x,y: x+y)\n",
    "    words2=words.map(lambda x: (x[1],1)) #.map(lambda x: (x,1))\n",
    "    words3 = words2.reduceByKey(lambda x,y: x+y).takeOrdered(20) # #.reduceByKey(lambda x,y: x+y).\n",
    "    return words3\n",
    "histogram_reps('C:\\\\Users\\\\ruben\\\\Downloads\\\\quixote.txt')\n",
    "(x_values, y_values) = zip(*histogram_reps('C:\\\\Users\\\\ruben\\\\Downloads\\\\quixote.txt'))\n",
    "plt.bar(x_values, y_values)\n",
    "plt.title('Histogram of repetitions (up to 20)')\n",
    "plt.xlabel('Number of repetitions')\n",
    "plt.ylabel('Number of words')\n",
    "plt.show()\n"
   ]
  },
  {
   "cell_type": "code",
   "execution_count": 22,
   "id": "144ede4c-11fa-4b44-b28e-934dc8c78af4",
   "metadata": {},
   "outputs": [
    {
     "name": "stdout",
     "output_type": "stream",
     "text": [
      "1 test passed.\n"
     ]
    }
   ],
   "source": [
    "hist_quixote = histogram_reps('C:\\\\Users\\\\ruben\\\\Downloads\\\\quixote.txt')\n",
    "test(hist_quixote[:10],[(1, 6303), (2, 2469), (3, 1382), (4, 903), (5, 688), (6, 511), (7, 367), (8, 340), \n",
    "                                     (9, 239), (10, 207)], \"Try again!\")"
   ]
  },
  {
   "cell_type": "markdown",
   "id": "e5cc27ba-93dd-4d23-aa0f-f52bad6b97c2",
   "metadata": {},
   "source": [
    "# Ejercicio 2. Histograma length"
   ]
  },
  {
   "cell_type": "code",
   "execution_count": 52,
   "id": "6600316a-e1f7-4c2c-ac68-5813f232ca55",
   "metadata": {},
   "outputs": [
    {
     "data": {
      "image/png": "[encoded data removed]",
      "text/plain": [
       "<Figure size 640x480 with 1 Axes>"
      ]
     },
     "metadata": {},
     "output_type": "display_data"
    }
   ],
   "source": [
    "def histogram_length(path):\n",
    "    lines=sc.textFile(path)\n",
    "    words=lines.map(lambda x: remove_punctuation_symbols(x)).flatMap(lambda x: x.split(' ')).filter(lambda x: x!= '').map(lambda x: (len(x), 1))\\\n",
    "        .reduceByKey(lambda x,y: x+y).takeOrdered(16)\n",
    "    return words\n",
    "\n",
    "(x_values, y_values) = zip(*histogram_length(('C:\\\\Users\\\\ruben\\\\Downloads\\\\quixote.txt')))\n",
    "plt.bar(x_values, y_values)\n",
    "plt.title('Histogram of repetitions (up to 20)')\n",
    "plt.xlabel('Number of repetitions')\n",
    "plt.ylabel('Number of words')\n",
    "plt.show()\n"
   ]
  },
  {
   "cell_type": "code",
   "execution_count": 53,
   "id": "4200f18b-abaa-49c3-9f99-e161894e4da6",
   "metadata": {},
   "outputs": [
    {
     "name": "stdout",
     "output_type": "stream",
     "text": [
      "[(1, 16557), (2, 86007), (3, 104061), (4, 85836), (5, 42352), (6, 34381), (7, 29737), (8, 15982), (9, 10454), (10, 6409), (11, 2516), (12, 1210), (13, 482), (14, 152), (15, 60), (16, 7)]\n",
      "1 test passed.\n"
     ]
    }
   ],
   "source": [
    "length_quixote = histogram_length('C:\\\\Users\\\\ruben\\\\Downloads\\\\quixote.txt')\n",
    "print(length_quixote)\n",
    "test(length_quixote, [(1, 16557), (2, 86007), (3, 104061), (4, 85836), (5, 42352), (6, 34381), (7, 29737),\n",
    "                                   (8, 15982), (9, 10454), (10, 6409), (11, 2516), (12, 1210), (13, 482), (14, 152),\n",
    "                                   (15, 60), (16, 7)],\"Try again!\")"
   ]
  },
  {
   "cell_type": "markdown",
   "id": "cf9e2fb5-ee61-44f2-947a-992a7577ce36",
   "metadata": {},
   "source": [
    "# Ejercicio 3. Media de las palabras"
   ]
  },
  {
   "cell_type": "code",
   "execution_count": 85,
   "id": "c54aa2cc-289c-47c1-8e98-279dca2950e2",
   "metadata": {},
   "outputs": [],
   "source": [
    "def contar(nums):\n",
    "    sumatorio = [0,0]\n",
    "    for num in nums:\n",
    "        sumatorio[0] += num\n",
    "        sumatorio[1] += 1\n",
    "    return [sumatorio]\n",
    "    \n",
    "def average_length(path):\n",
    "    lines=sc.textFile(path)\n",
    "    words=lines.map(lambda x: remove_punctuation_symbols(x))\\\n",
    "               .flatMap(lambda x: x.split(' '))\\\n",
    "               .filter(lambda x: x!= '')\\\n",
    "               .map(lambda x: len(x))\\\n",
    "               .filter(lambda x: x<17)\n",
    "    med = words.map(lambda x: (x,1)).reduce(lambda x,y : (x[0] + y[0], x[1] + y[1]))\n",
    "    return med[0]/med[1]"
   ]
  },
  {
   "cell_type": "code",
   "execution_count": 86,
   "id": "282acd02-86e3-47ec-b85f-fb39c53eb49f",
   "metadata": {},
   "outputs": [
    {
     "name": "stdout",
     "output_type": "stream",
     "text": [
      "1 test passed.\n"
     ]
    }
   ],
   "source": [
    "avg = average_length(\"C:\\\\Users\\\\ruben\\\\Downloads\\\\quixote.txt\")\n",
    "test(round(avg,5), 4.14471, 'Try again!')"
   ]
  },
  {
   "cell_type": "markdown",
   "id": "e4ba6df3-dafb-4871-9147-d0df5ee434a3",
   "metadata": {},
   "source": [
    "# Ejercicio 4. LastFM"
   ]
  },
  {
   "cell_type": "code",
   "execution_count": 87,
   "id": "3bc251b0-cc6c-4d1a-997b-09346140f3c5",
   "metadata": {},
   "outputs": [],
   "source": [
    "def get_subset(input_filename, output_filename, num_lines, enc = \"utf-8\"):\n",
    "    with open(input_filename, encoding=enc) as openfile:\n",
    "        with open(output_filename, 'w', encoding=enc) as outfile:\n",
    "            for i in range(num_lines):\n",
    "                line = openfile.readline()\n",
    "                outfile.write(line)"
   ]
  },
  {
   "cell_type": "code",
   "execution_count": 88,
   "id": "4a49daf7-7ccc-4547-8504-09bd22cd2237",
   "metadata": {},
   "outputs": [],
   "source": [
    "get_subset(\"C:\\\\Users\\\\ruben\\\\Desktop\\\\data engineering\\\\s4-pyspark\\\\lastfm-dataset-360K\\\\lastfm-dataset-360K\\\\usersha1-artmbid-artname-plays.tsv\",'C:\\\\Users\\\\ruben\\\\Desktop\\\\data engineering\\\\s4-pyspark\\\\lastfm-dataset-360K\\\\lastfm-dataset-360K\\\\sample3000_usersha1-artmbid-artname-plays.tsv', 3000 )"
   ]
  },
  {
   "cell_type": "code",
   "execution_count": 119,
   "id": "cfed3b5d-a481-4f20-a2cb-4d588bf76abb",
   "metadata": {},
   "outputs": [
    {
     "data": {
      "text/plain": [
       "[['00000c289a1829a808ac09c00daf10bc3c4e223b',\n",
       "  '3bd73256-3905-4f3a-97e2-8b341527f805',\n",
       "  'betty blowtorch',\n",
       "  '2137'],\n",
       " ['00000c289a1829a808ac09c00daf10bc3c4e223b',\n",
       "  'f2fb0ff0-5679-42ec-a55c-15109ce6e320',\n",
       "  'die Ärzte',\n",
       "  '1099'],\n",
       " ['00000c289a1829a808ac09c00daf10bc3c4e223b',\n",
       "  'b3ae82c2-e60b-4551-a76d-6620f1b456aa',\n",
       "  'melissa etheridge',\n",
       "  '897'],\n",
       " ['00000c289a1829a808ac09c00daf10bc3c4e223b',\n",
       "  '3d6bbeb7-f90e-4d10-b440-e153c0d10b53',\n",
       "  'elvenking',\n",
       "  '717'],\n",
       " ['00000c289a1829a808ac09c00daf10bc3c4e223b',\n",
       "  'bbd2ffd7-17f4-4506-8572-c1ea58c3f9a8',\n",
       "  'juliette & the licks',\n",
       "  '706'],\n",
       " ['00000c289a1829a808ac09c00daf10bc3c4e223b',\n",
       "  '8bfac288-ccc5-448d-9573-c33ea2aa5c30',\n",
       "  'red hot chili peppers',\n",
       "  '691'],\n",
       " ['00000c289a1829a808ac09c00daf10bc3c4e223b',\n",
       "  '6531c8b1-76ea-4141-b270-eb1ac5b41375',\n",
       "  'magica',\n",
       "  '545'],\n",
       " ['00000c289a1829a808ac09c00daf10bc3c4e223b',\n",
       "  '21f3573f-10cf-44b3-aeaa-26cccd8448b5',\n",
       "  'the black dahlia murder',\n",
       "  '507'],\n",
       " ['00000c289a1829a808ac09c00daf10bc3c4e223b',\n",
       "  'c5db90c4-580d-4f33-b364-fbaa5a3a58b5',\n",
       "  'the murmurs',\n",
       "  '424'],\n",
       " ['00000c289a1829a808ac09c00daf10bc3c4e223b',\n",
       "  '0639533a-0402-40ba-b6e0-18b067198b73',\n",
       "  'lunachicks',\n",
       "  '403']]"
      ]
     },
     "execution_count": 119,
     "metadata": {},
     "output_type": "execute_result"
    }
   ],
   "source": [
    "lines=sc.textFile('C:\\\\Users\\\\ruben\\\\Desktop\\\\data engineering\\\\s4-pyspark\\\\lastfm-dataset-360K\\\\lastfm-dataset-360K\\\\sample3000_usersha1-artmbid-artname-plays.tsv')\n",
    "data = lines.map(lambda x: x.split('\\t')).filter(lambda x: (x[2])).take(10)\n",
    "data"
   ]
  }
 ],
 "metadata": {
  "kernelspec": {
   "display_name": "Python 3 (ipykernel)",
   "language": "python",
   "name": "python3"
  },
  "language_info": {
   "codemirror_mode": {
    "name": "ipython",
    "version": 3
   },
   "file_extension": ".py",
   "mimetype": "text/x-python",
   "name": "python",
   "nbconvert_exporter": "python",
   "pygments_lexer": "ipython3",
   "version": "3.11.6"
  }
 },
 "nbformat": 4,
 "nbformat_minor": 5
}
