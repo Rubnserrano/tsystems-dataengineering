{
 "cells": [
  {
   "cell_type": "code",
   "execution_count": 2,
   "id": "513af648-cb94-4775-af44-f2f37f183d3d",
   "metadata": {},
   "outputs": [],
   "source": [
    "from pyspark.sql import SparkSession\n",
    "\n",
    "spark = SparkSession \\\n",
    "    .builder \\\n",
    "    .master(\"local[*]\") \\\n",
    "    .appName(\"T-systems: tercera sesion\") \\\n",
    "    .getOrCreate()\n",
    "\n",
    "sc = spark.sparkContext"
   ]
  },
  {
   "cell_type": "code",
   "execution_count": 3,
   "id": "7c4825c9-68d9-412e-b00b-e5d3aa9f3725",
   "metadata": {},
   "outputs": [],
   "source": [
    "from pyspark import Row"
   ]
  },
  {
   "cell_type": "code",
   "execution_count": 5,
   "id": "1daba2ef-2294-4ee5-a989-573a9b256ef4",
   "metadata": {},
   "outputs": [],
   "source": [
    "rdd = sc.parallelize([('a', 1), ('b', 1), ('c', 2)])"
   ]
  },
  {
   "cell_type": "code",
   "execution_count": 8,
   "id": "69fdab24-46c6-4b41-a37b-d1638fa91a88",
   "metadata": {},
   "outputs": [],
   "source": [
    "df = rdd.toDF()"
   ]
  },
  {
   "cell_type": "code",
   "execution_count": 9,
   "id": "c53b5631-5d59-478d-b7da-34641b772d8f",
   "metadata": {},
   "outputs": [
    {
     "name": "stdout",
     "output_type": "stream",
     "text": [
      "+---+---+\n",
      "| _1| _2|\n",
      "+---+---+\n",
      "|  a|  1|\n",
      "|  b|  1|\n",
      "|  c|  2|\n",
      "+---+---+\n",
      "\n"
     ]
    }
   ],
   "source": [
    "df.show()"
   ]
  },
  {
   "cell_type": "code",
   "execution_count": 13,
   "id": "3e4af5c2-4139-4c83-b3e4-300af5a5a2e6",
   "metadata": {},
   "outputs": [
    {
     "data": {
      "text/html": [
       "<div>\n",
       "<style scoped>\n",
       "    .dataframe tbody tr th:only-of-type {\n",
       "        vertical-align: middle;\n",
       "    }\n",
       "\n",
       "    .dataframe tbody tr th {\n",
       "        vertical-align: top;\n",
       "    }\n",
       "\n",
       "    .dataframe thead th {\n",
       "        text-align: right;\n",
       "    }\n",
       "</style>\n",
       "<table border=\"1\" class=\"dataframe\">\n",
       "  <thead>\n",
       "    <tr style=\"text-align: right;\">\n",
       "      <th></th>\n",
       "      <th>_1</th>\n",
       "      <th>_2</th>\n",
       "    </tr>\n",
       "  </thead>\n",
       "  <tbody>\n",
       "    <tr>\n",
       "      <th>0</th>\n",
       "      <td>a</td>\n",
       "      <td>1</td>\n",
       "    </tr>\n",
       "    <tr>\n",
       "      <th>1</th>\n",
       "      <td>b</td>\n",
       "      <td>1</td>\n",
       "    </tr>\n",
       "    <tr>\n",
       "      <th>2</th>\n",
       "      <td>c</td>\n",
       "      <td>2</td>\n",
       "    </tr>\n",
       "  </tbody>\n",
       "</table>\n",
       "</div>"
      ],
      "text/plain": [
       "  _1  _2\n",
       "0  a   1\n",
       "1  b   1\n",
       "2  c   2"
      ]
     },
     "execution_count": 13,
     "metadata": {},
     "output_type": "execute_result"
    }
   ],
   "source": [
    "df_p = df.toPandas()\n",
    "df_p"
   ]
  },
  {
   "cell_type": "code",
   "execution_count": 14,
   "id": "8418ffd4-ef67-402a-a077-2b3187f194ea",
   "metadata": {},
   "outputs": [
    {
     "name": "stderr",
     "output_type": "stream",
     "text": [
      "C:\\Users\\ruben\\AppData\\Local\\Packages\\PythonSoftwareFoundation.Python.3.11_qbz5n2kfra8p0\\LocalCache\\local-packages\\Python311\\site-packages\\pyspark\\sql\\pandas\\conversion.py:485: FutureWarning: is_datetime64tz_dtype is deprecated and will be removed in a future version. Check `isinstance(dtype, pd.DatetimeTZDtype)` instead.\n",
      "  if should_localize and is_datetime64tz_dtype(s.dtype) and s.dt.tz is not None:\n"
     ]
    }
   ],
   "source": [
    "df2 = spark.createDataFrame(df_p)"
   ]
  },
  {
   "cell_type": "code",
   "execution_count": 15,
   "id": "4f896f6d-14e0-4292-a4e8-7ef79ef304d9",
   "metadata": {},
   "outputs": [
    {
     "name": "stdout",
     "output_type": "stream",
     "text": [
      "+---+---+\n",
      "| _1| _2|\n",
      "+---+---+\n",
      "|  a|  1|\n",
      "|  b|  1|\n",
      "|  c|  2|\n",
      "+---+---+\n",
      "\n"
     ]
    }
   ],
   "source": [
    "df2.show()"
   ]
  },
  {
   "cell_type": "code",
   "execution_count": 16,
   "id": "e696373a-c549-4d5b-9fc5-adda6579d303",
   "metadata": {},
   "outputs": [
    {
     "name": "stdout",
     "output_type": "stream",
     "text": [
      "+-----+---+\n",
      "| name|age|\n",
      "+-----+---+\n",
      "|Ruben| 22|\n",
      "|Paula| 21|\n",
      "+-----+---+\n",
      "\n"
     ]
    }
   ],
   "source": [
    "rdd = sc.parallelize([('Ruben', 22), ('Paula', 21)])\n",
    "df = spark.createDataFrame(rdd, \"name: string, age:int\")\n",
    "df.show()"
   ]
  },
  {
   "cell_type": "code",
   "execution_count": 17,
   "id": "f3669a9a-59da-4dbb-af9c-d8c96d18223a",
   "metadata": {},
   "outputs": [
    {
     "name": "stdout",
     "output_type": "stream",
     "text": [
      "root\n",
      " |-- name: string (nullable = true)\n",
      " |-- age: integer (nullable = true)\n",
      "\n"
     ]
    }
   ],
   "source": [
    "df.printSchema()"
   ]
  },
  {
   "cell_type": "code",
   "execution_count": 20,
   "id": "1c642bf8-0ce4-4932-a301-f104ba8172a4",
   "metadata": {},
   "outputs": [
    {
     "name": "stdout",
     "output_type": "stream",
     "text": [
      "+--------------------------------------------------------------------------------+\n",
      "|value                                                                           |\n",
      "+--------------------------------------------------------------------------------+\n",
      "|                                                                                |\n",
      "|The Project Gutenberg EBook of The History of Don Quixote by Miguel de Cervantes|\n",
      "|                                                                                |\n",
      "|This eBook is for the use of anyone anywhere at no cost and with                |\n",
      "|almost no restrictions whatsoever.  You may copy it, give it away or            |\n",
      "+--------------------------------------------------------------------------------+\n",
      "only showing top 5 rows\n",
      "\n"
     ]
    }
   ],
   "source": [
    "book = spark.read.text('C:\\\\Users\\\\ruben\\\\Downloads\\\\quixote.txt')\n",
    "book.show(5, truncate = False)\n"
   ]
  },
  {
   "cell_type": "code",
   "execution_count": 21,
   "id": "04826c0b-a5d5-4753-8bad-14947aac7a48",
   "metadata": {},
   "outputs": [],
   "source": [
    "# tambien se pueden leer csv con spark.read.csv pero no te pone estructura. spark.read.csv('ruta', header = True)\n",
    "# se leen como texto. \n",
    "# en json si puedes especificar desde el archivo el tipo de dato. (spark.read.json)"
   ]
  },
  {
   "cell_type": "code",
   "execution_count": 22,
   "id": "806fa48c-cff2-4761-818e-77f450f9daed",
   "metadata": {},
   "outputs": [],
   "source": [
    "df_json = spark.read.json(\"C:\\\\Users\\\\ruben\\\\Desktop\\\\data engineering\\\\s4-pyspark\\\\data.json\")"
   ]
  },
  {
   "cell_type": "code",
   "execution_count": 23,
   "id": "ec7731eb-2def-4704-85a8-56b6949b7e7e",
   "metadata": {},
   "outputs": [
    {
     "name": "stdout",
     "output_type": "stream",
     "text": [
      "+-----------+--------------------+----------+---------+---------------+\n",
      "|employee_id|             hobbies|    joined| location|  personal_info|\n",
      "+-----------+--------------------+----------+---------+---------------+\n",
      "|       8761|[Lifting, Running...|2010-05-10|       UK|      {35, Lam}|\n",
      "|      12441|[Triathlon, Runni...|2009-01-12|    Spain|   {36, Direnc}|\n",
      "|       5646|  [Singing, Dancing]|2002-10-25|      USA|  {42, Rebecca}|\n",
      "|       1233|                NULL|2018-08-14|       UK|{46, Grazziela}|\n",
      "|       3242|    [Running, Music]|2018-08-14|Australia|   {22, Edwina}|\n",
      "+-----------+--------------------+----------+---------+---------------+\n",
      "\n"
     ]
    }
   ],
   "source": [
    "df_json.show(5)"
   ]
  },
  {
   "cell_type": "code",
   "execution_count": 24,
   "id": "68c95b65-bc01-40eb-b63c-c3bcbbd0bf6d",
   "metadata": {},
   "outputs": [
    {
     "name": "stdout",
     "output_type": "stream",
     "text": [
      "root\n",
      " |-- employee_id: long (nullable = true)\n",
      " |-- hobbies: array (nullable = true)\n",
      " |    |-- element: string (containsNull = true)\n",
      " |-- joined: string (nullable = true)\n",
      " |-- location: string (nullable = true)\n",
      " |-- personal_info: struct (nullable = true)\n",
      " |    |-- age: long (nullable = true)\n",
      " |    |-- name: string (nullable = true)\n",
      "\n"
     ]
    }
   ],
   "source": [
    "df_json.printSchema()"
   ]
  },
  {
   "cell_type": "code",
   "execution_count": 27,
   "id": "4b41a798-2cd2-4aa8-8228-9853d69b2edb",
   "metadata": {},
   "outputs": [],
   "source": [
    "df_csv = spark.read.csv(\"C:\\\\Users\\\\ruben\\\\Desktop\\\\data engineering\\\\s4-pyspark\\\\results.csv\", header = True)"
   ]
  },
  {
   "cell_type": "code",
   "execution_count": 28,
   "id": "f3de3f7c-1c47-4768-84da-7aec9cafa75a",
   "metadata": {},
   "outputs": [
    {
     "name": "stdout",
     "output_type": "stream",
     "text": [
      "+----------+----------+----------+----------+----+----+----+----+-------+-----+\n",
      "|Question 1|Question 2|Question 3|Question 4|Ex01|Ex02|Ex03|Ex04|Project|Total|\n",
      "+----------+----------+----------+----------+----+----+----+----+-------+-----+\n",
      "|        18|        16|        23|        22| 100|  85|  80|  70|     80|   81|\n",
      "|        20|        13|        11|        22| 100|  85|  80|  90|     93|   79|\n",
      "|         7|         7|         0|         2| 100| 100|  85|  30|     70|   42|\n",
      "|        14|        16|         4|        13|  95|  95| 100|  55|     87|   67|\n",
      "|         4|         6|         0|         0|  65|  95|  65|  25|     70|   39|\n",
      "+----------+----------+----------+----------+----+----+----+----+-------+-----+\n",
      "only showing top 5 rows\n",
      "\n"
     ]
    }
   ],
   "source": [
    "df_csv.show(5)"
   ]
  },
  {
   "cell_type": "code",
   "execution_count": 29,
   "id": "89b4d04d-a360-40c4-ab50-d90fd61ccf63",
   "metadata": {},
   "outputs": [
    {
     "name": "stdout",
     "output_type": "stream",
     "text": [
      "root\n",
      " |-- Question 1: string (nullable = true)\n",
      " |-- Question 2: string (nullable = true)\n",
      " |-- Question 3: string (nullable = true)\n",
      " |-- Question 4: string (nullable = true)\n",
      " |-- Ex01: string (nullable = true)\n",
      " |-- Ex02: string (nullable = true)\n",
      " |-- Ex03: string (nullable = true)\n",
      " |-- Ex04: string (nullable = true)\n",
      " |-- Project: string (nullable = true)\n",
      " |-- Total: string (nullable = true)\n",
      "\n"
     ]
    }
   ],
   "source": [
    "df_csv.printSchema()"
   ]
  },
  {
   "cell_type": "code",
   "execution_count": 30,
   "id": "9df8c9ca-420f-4ec5-8a46-0b1a275c00cd",
   "metadata": {},
   "outputs": [],
   "source": [
    "# Los dataframes estan distribuidos por filas"
   ]
  },
  {
   "cell_type": "code",
   "execution_count": 32,
   "id": "53d11361-d9f7-4f4d-9427-5fbac1f2d65a",
   "metadata": {},
   "outputs": [
    {
     "name": "stdout",
     "output_type": "stream",
     "text": [
      "+-----+---+\n",
      "| name|age|\n",
      "+-----+---+\n",
      "|Ruben| 22|\n",
      "|Paula| 21|\n",
      "+-----+---+\n",
      "\n"
     ]
    }
   ],
   "source": [
    "df.show()"
   ]
  },
  {
   "cell_type": "code",
   "execution_count": 33,
   "id": "92f6e7c5-ed46-49c6-aaa0-4560bf576bfe",
   "metadata": {},
   "outputs": [
    {
     "data": {
      "text/plain": [
       "Column<'name'>"
      ]
     },
     "execution_count": 33,
     "metadata": {},
     "output_type": "execute_result"
    }
   ],
   "source": [
    "df['name'] #no se puede sacar una col así porque esta distribuida"
   ]
  },
  {
   "cell_type": "code",
   "execution_count": 35,
   "id": "ea9a3ab8-01a1-470a-8f2d-58d1787d256f",
   "metadata": {},
   "outputs": [
    {
     "name": "stdout",
     "output_type": "stream",
     "text": [
      "+-----+\n",
      "| name|\n",
      "+-----+\n",
      "|Ruben|\n",
      "|Paula|\n",
      "+-----+\n",
      "\n"
     ]
    }
   ],
   "source": [
    "df.select('name').show() #es una accion, hace un collect sabiendo como hacer el print con la estructura (tiene __str__)"
   ]
  },
  {
   "cell_type": "code",
   "execution_count": 36,
   "id": "76b1d47e-1922-4f96-9c08-674b2ae865d0",
   "metadata": {},
   "outputs": [
    {
     "name": "stdout",
     "output_type": "stream",
     "text": [
      "+-----+\n",
      "| name|\n",
      "+-----+\n",
      "|Ruben|\n",
      "|Paula|\n",
      "+-----+\n",
      "\n",
      "+-----+\n",
      "| name|\n",
      "+-----+\n",
      "|Ruben|\n",
      "|Paula|\n",
      "+-----+\n",
      "\n"
     ]
    }
   ],
   "source": [
    "df.select(df.name).show()\n",
    "df.select(df['name']).show()\n",
    "#son todo formas equivalentes"
   ]
  },
  {
   "cell_type": "code",
   "execution_count": 37,
   "id": "2c41df6a-5161-473d-80dd-2883ef495e00",
   "metadata": {},
   "outputs": [
    {
     "name": "stdout",
     "output_type": "stream",
     "text": [
      "+-----+-----+---+---+\n",
      "| name| name|age|age|\n",
      "+-----+-----+---+---+\n",
      "|Ruben|Ruben| 22| 22|\n",
      "|Paula|Paula| 21| 21|\n",
      "+-----+-----+---+---+\n",
      "\n"
     ]
    }
   ],
   "source": [
    "df.select('name', 'name', 'age', 'age').show() #con select se pueden crear columnas"
   ]
  },
  {
   "cell_type": "code",
   "execution_count": 40,
   "id": "3cb53f02-53f7-4621-ae6d-4352d5e76cae",
   "metadata": {},
   "outputs": [
    {
     "name": "stdout",
     "output_type": "stream",
     "text": [
      "+-----+------+\n",
      "| name|newage|\n",
      "+-----+------+\n",
      "|Ruben|    32|\n",
      "|Paula|    31|\n",
      "+-----+------+\n",
      "\n"
     ]
    }
   ],
   "source": [
    "df.select('name', (df.age + 10).alias('newage')).show()"
   ]
  },
  {
   "cell_type": "code",
   "execution_count": 42,
   "id": "bcdd8b30-09b6-4575-a7fa-9bb8effc4bcc",
   "metadata": {},
   "outputs": [
    {
     "name": "stdout",
     "output_type": "stream",
     "text": [
      "+----------+---+\n",
      "|first_name|age|\n",
      "+----------+---+\n",
      "|     Ruben| 22|\n",
      "|     Paula| 21|\n",
      "+----------+---+\n",
      "\n"
     ]
    }
   ],
   "source": [
    "df.select(df.name.alias('first_name'), 'age').show()"
   ]
  },
  {
   "cell_type": "code",
   "execution_count": 46,
   "id": "0b9a756b-da51-42da-aa02-a14359be6a00",
   "metadata": {},
   "outputs": [
    {
     "name": "stdout",
     "output_type": "stream",
     "text": [
      "+-----+---+\n",
      "| name|age|\n",
      "+-----+---+\n",
      "|Paula| 21|\n",
      "+-----+---+\n",
      "\n"
     ]
    }
   ],
   "source": [
    "df.filter(df.age == 21).show()"
   ]
  },
  {
   "cell_type": "code",
   "execution_count": 52,
   "id": "0f80ae32-12e7-40fd-8012-27ef2cc96896",
   "metadata": {},
   "outputs": [
    {
     "ename": "TypeError",
     "evalue": "'Column' object is not callable",
     "output_type": "error",
     "traceback": [
      "\u001b[1;31m---------------------------------------------------------------------------\u001b[0m",
      "\u001b[1;31mTypeError\u001b[0m                                 Traceback (most recent call last)",
      "Cell \u001b[1;32mIn[52], line 1\u001b[0m\n\u001b[1;32m----> 1\u001b[0m \u001b[43mdf\u001b[49m\u001b[38;5;241;43m.\u001b[39;49m\u001b[43mage\u001b[49m\u001b[38;5;241;43m.\u001b[39;49m\u001b[43mbetween\u001b[49m\u001b[43m(\u001b[49m\u001b[38;5;241;43m20\u001b[39;49m\u001b[43m,\u001b[49m\u001b[43m \u001b[49m\u001b[38;5;241;43m21\u001b[39;49m\u001b[43m)\u001b[49m\u001b[38;5;241;43m.\u001b[39;49m\u001b[43mshow\u001b[49m\u001b[43m(\u001b[49m\u001b[43m)\u001b[49m\n",
      "\u001b[1;31mTypeError\u001b[0m: 'Column' object is not callable"
     ]
    }
   ],
   "source": [
    "df.age.between(20, 21).show()\n",
    "\n",
    "#operaciones columna, tienes que hacer una transformacion como select o filter"
   ]
  },
  {
   "cell_type": "code",
   "execution_count": 51,
   "id": "82079948-202e-4fe7-b131-5eb06d8b09e2",
   "metadata": {},
   "outputs": [
    {
     "name": "stdout",
     "output_type": "stream",
     "text": [
      "+-----+---+\n",
      "| name|age|\n",
      "+-----+---+\n",
      "|Paula| 21|\n",
      "+-----+---+\n",
      "\n"
     ]
    }
   ],
   "source": [
    "df.filter(df.age.between(20, 21)).show()"
   ]
  },
  {
   "cell_type": "code",
   "execution_count": 54,
   "id": "2060ed61-c13c-42f3-afea-976e80c5a1ae",
   "metadata": {},
   "outputs": [
    {
     "name": "stdout",
     "output_type": "stream",
     "text": [
      "+-----------------+\n",
      "|mas 20 y menos 21|\n",
      "+-----------------+\n",
      "|            false|\n",
      "|             true|\n",
      "+-----------------+\n",
      "\n"
     ]
    }
   ],
   "source": [
    "df.select((df.age.between(20, 21)).alias('mas 20 y menos 21')).show()"
   ]
  },
  {
   "cell_type": "code",
   "execution_count": 56,
   "id": "e42620f5-4db0-4374-82b1-fe8f5d3d8abd",
   "metadata": {},
   "outputs": [
    {
     "name": "stdout",
     "output_type": "stream",
     "text": [
      "+-----+---+\n",
      "| name|age|\n",
      "+-----+---+\n",
      "|Paula| 21|\n",
      "|Ruben| 22|\n",
      "+-----+---+\n",
      "\n"
     ]
    }
   ],
   "source": [
    "df.sort('age', ascending = True).show()"
   ]
  },
  {
   "cell_type": "code",
   "execution_count": 60,
   "id": "b977cf57-9d2f-4862-9a60-57ca6999aa02",
   "metadata": {},
   "outputs": [],
   "source": [
    "from pyspark.sql import functions as sql_f"
   ]
  },
  {
   "cell_type": "code",
   "execution_count": 62,
   "id": "4ea73ea1-9118-40cf-a797-9703d5ece933",
   "metadata": {},
   "outputs": [
    {
     "data": {
      "text/plain": [
       "16"
      ]
     },
     "execution_count": 62,
     "metadata": {},
     "output_type": "execute_result"
    }
   ],
   "source": [
    "df.rdd.getNumPartitions()"
   ]
  },
  {
   "cell_type": "code",
   "execution_count": 67,
   "id": "366b61de-7331-4079-8913-8e57540db64a",
   "metadata": {},
   "outputs": [
    {
     "name": "stdout",
     "output_type": "stream",
     "text": [
      "+-----+---------------+\n",
      "| name|longitud nombre|\n",
      "+-----+---------------+\n",
      "|Ruben|              5|\n",
      "|Paula|              5|\n",
      "+-----+---------------+\n",
      "\n"
     ]
    }
   ],
   "source": [
    "df.select(df.name, sql_f.length(df.name).alias('longitud nombre')).show()"
   ]
  },
  {
   "cell_type": "code",
   "execution_count": 68,
   "id": "5ed87890-211b-45a1-88b4-2c02f7dde490",
   "metadata": {},
   "outputs": [],
   "source": [
    "eDf = spark.createDataFrame([Row(a=1, intlist = [1,2,3], mapfield = {'a' : 'b'})])"
   ]
  },
  {
   "cell_type": "code",
   "execution_count": 69,
   "id": "37269bda-70f1-4900-b34a-f40bca686db1",
   "metadata": {},
   "outputs": [
    {
     "name": "stdout",
     "output_type": "stream",
     "text": [
      "+---+---------+--------+\n",
      "|  a|  intlist|mapfield|\n",
      "+---+---------+--------+\n",
      "|  1|[1, 2, 3]|{a -> b}|\n",
      "+---+---------+--------+\n",
      "\n"
     ]
    }
   ],
   "source": [
    "eDf.show()"
   ]
  },
  {
   "cell_type": "code",
   "execution_count": 73,
   "id": "da875fe3-305d-4994-a0e8-d914517e3012",
   "metadata": {},
   "outputs": [
    {
     "name": "stdout",
     "output_type": "stream",
     "text": [
      "+---+\n",
      "|col|\n",
      "+---+\n",
      "|  1|\n",
      "|  2|\n",
      "|  3|\n",
      "+---+\n",
      "\n"
     ]
    }
   ],
   "source": [
    "eDf.select(sql_f.explode(eDf.intlist)).show()"
   ]
  },
  {
   "cell_type": "code",
   "execution_count": 74,
   "id": "b4a850fa-2832-41c2-8566-b51ff07bae55",
   "metadata": {},
   "outputs": [
    {
     "name": "stdout",
     "output_type": "stream",
     "text": [
      "+---+---------+--------+---+\n",
      "|  a|  intlist|mapfield|col|\n",
      "+---+---------+--------+---+\n",
      "|  1|[1, 2, 3]|{a -> b}|  1|\n",
      "|  1|[1, 2, 3]|{a -> b}|  2|\n",
      "|  1|[1, 2, 3]|{a -> b}|  3|\n",
      "+---+---------+--------+---+\n",
      "\n"
     ]
    }
   ],
   "source": [
    "eDf.select('*', sql_f.explode(eDf.intlist)).show()"
   ]
  },
  {
   "cell_type": "code",
   "execution_count": 75,
   "id": "abae73cb-9314-4dd4-a0ae-9709aa241bd2",
   "metadata": {},
   "outputs": [
    {
     "name": "stdout",
     "output_type": "stream",
     "text": [
      "+---+--------+---+\n",
      "|  a|mapfield|col|\n",
      "+---+--------+---+\n",
      "|  1|{a -> b}|  1|\n",
      "|  1|{a -> b}|  2|\n",
      "|  1|{a -> b}|  3|\n",
      "+---+--------+---+\n",
      "\n"
     ]
    }
   ],
   "source": [
    "eDf.select('a', 'mapfield', sql_f.explode(eDf.intlist)).show()"
   ]
  },
  {
   "cell_type": "code",
   "execution_count": 77,
   "id": "187f213d-3775-4d4d-b3cd-fde3b33fecaf",
   "metadata": {},
   "outputs": [
    {
     "name": "stdout",
     "output_type": "stream",
     "text": [
      "+---+---------+---+-----+\n",
      "|  a|  intlist|key|value|\n",
      "+---+---------+---+-----+\n",
      "|  1|[1, 2, 3]|  a|    b|\n",
      "+---+---------+---+-----+\n",
      "\n"
     ]
    }
   ],
   "source": [
    "eDf.select('a', 'intlist', sql_f.explode(eDf.mapfield)).show()"
   ]
  },
  {
   "cell_type": "code",
   "execution_count": 79,
   "id": "0ea2f4c0-7d41-4791-a025-69213afebd13",
   "metadata": {},
   "outputs": [
    {
     "name": "stdout",
     "output_type": "stream",
     "text": [
      "+--------------------------------------------------------------------------------+\n",
      "|value                                                                           |\n",
      "+--------------------------------------------------------------------------------+\n",
      "|                                                                                |\n",
      "|The Project Gutenberg EBook of The History of Don Quixote by Miguel de Cervantes|\n",
      "|                                                                                |\n",
      "|This eBook is for the use of anyone anywhere at no cost and with                |\n",
      "|almost no restrictions whatsoever.  You may copy it, give it away or            |\n",
      "+--------------------------------------------------------------------------------+\n",
      "only showing top 5 rows\n",
      "\n"
     ]
    }
   ],
   "source": [
    "lines_df = spark.read.text('C:\\\\Users\\\\ruben\\\\Downloads\\\\quixote.txt')\n",
    "lines_df.show(5, truncate = False)\n"
   ]
  },
  {
   "cell_type": "code",
   "execution_count": 87,
   "id": "86bdda64-6e77-41cf-b152-33a574404d8a",
   "metadata": {},
   "outputs": [
    {
     "name": "stdout",
     "output_type": "stream",
     "text": [
      "+-----------------------------------------------------------------------------------------------+\n",
      "|split(value,  , -1)                                                                            |\n",
      "+-----------------------------------------------------------------------------------------------+\n",
      "|[]                                                                                             |\n",
      "|[The, Project, Gutenberg, EBook, of, The, History, of, Don, Quixote, by, Miguel, de, Cervantes]|\n",
      "|[]                                                                                             |\n",
      "|[This, eBook, is, for, the, use, of, anyone, anywhere, at, no, cost, and, with]                |\n",
      "|[almost, no, restrictions, whatsoever., , You, may, copy, it,, give, it, away, or]             |\n",
      "|[re-use, it, under, the, terms, of, the, Project, Gutenberg, License, included]                |\n",
      "|[with, this, eBook, or, online, at, www.gutenberg.org]                                         |\n",
      "|[]                                                                                             |\n",
      "|[]                                                                                             |\n",
      "|[Title:, The, History, of, Don, Quixote]                                                       |\n",
      "|[]                                                                                             |\n",
      "|[Author:, Miguel, de, Cervantes, Saavedra]                                                     |\n",
      "|[]                                                                                             |\n",
      "|[Release, Date:, July, 27,, 2004, [EBook, #996]]                                               |\n",
      "|[Last, Updated:, August, 26,, 2019]                                                            |\n",
      "|[]                                                                                             |\n",
      "|[Language:, English]                                                                           |\n",
      "|[]                                                                                             |\n",
      "|[Character, set, encoding:, UTF-8]                                                             |\n",
      "|[]                                                                                             |\n",
      "+-----------------------------------------------------------------------------------------------+\n",
      "only showing top 20 rows\n",
      "\n"
     ]
    }
   ],
   "source": [
    "lines_df.select(sql_f.split(lines_df.value, \" \")).show(truncate = False)"
   ]
  },
  {
   "cell_type": "code",
   "execution_count": 90,
   "id": "03c796be-3e6b-41e0-85c8-f5fa6f62098a",
   "metadata": {},
   "outputs": [],
   "source": [
    "words = lines_df.select(sql_f.explode(sql_f.split(lines_df.value, \" \")))"
   ]
  },
  {
   "cell_type": "code",
   "execution_count": 101,
   "id": "e5da891f-8db5-4496-800b-34bb84676bd9",
   "metadata": {},
   "outputs": [
    {
     "name": "stdout",
     "output_type": "stream",
     "text": [
      "+---------+\n",
      "|      col|\n",
      "+---------+\n",
      "|         |\n",
      "|      The|\n",
      "|  Project|\n",
      "|Gutenberg|\n",
      "|    EBook|\n",
      "+---------+\n",
      "only showing top 5 rows\n",
      "\n"
     ]
    }
   ],
   "source": [
    "words.show(5)"
   ]
  },
  {
   "cell_type": "code",
   "execution_count": 103,
   "id": "e3788a22-9041-4bba-bfc5-65d3d37a062b",
   "metadata": {},
   "outputs": [
    {
     "name": "stdout",
     "output_type": "stream",
     "text": [
      "+---------+\n",
      "|      col|\n",
      "+---------+\n",
      "|      The|\n",
      "|  Project|\n",
      "|Gutenberg|\n",
      "|    EBook|\n",
      "|       of|\n",
      "|      The|\n",
      "|  History|\n",
      "|       of|\n",
      "|      Don|\n",
      "|  Quixote|\n",
      "|       by|\n",
      "|   Miguel|\n",
      "|       de|\n",
      "|Cervantes|\n",
      "|     This|\n",
      "|    eBook|\n",
      "|       is|\n",
      "|      for|\n",
      "|      the|\n",
      "|      use|\n",
      "+---------+\n",
      "only showing top 20 rows\n",
      "\n"
     ]
    }
   ],
   "source": [
    "words.filter(\"col != ''\").show()"
   ]
  },
  {
   "cell_type": "code",
   "execution_count": null,
   "id": "1a564ae3-218c-41b5-85a4-f9a26f259318",
   "metadata": {},
   "outputs": [],
   "source": [
    "# Lo ponemos todo en el mismo trozo de codigo"
   ]
  },
  {
   "cell_type": "code",
   "execution_count": 105,
   "id": "7fba0bbb-4ac3-4648-8536-4d672a5aaf38",
   "metadata": {},
   "outputs": [
    {
     "name": "stdout",
     "output_type": "stream",
     "text": [
      "+--------------------+\n",
      "|               value|\n",
      "+--------------------+\n",
      "|                    |\n",
      "|The Project Guten...|\n",
      "+--------------------+\n",
      "only showing top 2 rows\n",
      "\n"
     ]
    }
   ],
   "source": [
    "lines_df.show(2)"
   ]
  },
  {
   "cell_type": "code",
   "execution_count": 111,
   "id": "432c9cac-ea47-43ab-8ae7-62fe24373f80",
   "metadata": {},
   "outputs": [
    {
     "name": "stdout",
     "output_type": "stream",
     "text": [
      "+---------+\n",
      "|     word|\n",
      "+---------+\n",
      "|      The|\n",
      "|  Project|\n",
      "|Gutenberg|\n",
      "|    EBook|\n",
      "|       of|\n",
      "|      The|\n",
      "|  History|\n",
      "|       of|\n",
      "|      Don|\n",
      "|  Quixote|\n",
      "|       by|\n",
      "|   Miguel|\n",
      "|       de|\n",
      "|Cervantes|\n",
      "|     This|\n",
      "|    eBook|\n",
      "|       is|\n",
      "|      for|\n",
      "|      the|\n",
      "|      use|\n",
      "+---------+\n",
      "only showing top 20 rows\n",
      "\n"
     ]
    }
   ],
   "source": [
    "lines_df.select(sql_f.explode(sql_f.split(lines_df.value, ' '))\\\n",
    "        .alias('word')).filter(\"word != ''\").show()"
   ]
  },
  {
   "cell_type": "markdown",
   "id": "aa214e99-a181-4f84-9c78-18abf7434382",
   "metadata": {},
   "source": [
    "# Word Count - One Line"
   ]
  },
  {
   "cell_type": "code",
   "execution_count": 123,
   "id": "99672347-8c52-431a-ba87-887247b3a251",
   "metadata": {},
   "outputs": [
    {
     "name": "stdout",
     "output_type": "stream",
     "text": [
      "+--------------------+\n",
      "|               value|\n",
      "+--------------------+\n",
      "|                    |\n",
      "|The Project Guten...|\n",
      "|                    |\n",
      "|This eBook is for...|\n",
      "+--------------------+\n",
      "only showing top 4 rows\n",
      "\n"
     ]
    }
   ],
   "source": [
    "lines_df.show(4)"
   ]
  },
  {
   "cell_type": "code",
   "execution_count": 122,
   "id": "9ec49b93-d5af-4a6c-af33-5489b653dee2",
   "metadata": {},
   "outputs": [
    {
     "name": "stdout",
     "output_type": "stream",
     "text": [
      "+----+-----+\n",
      "|word|count|\n",
      "+----+-----+\n",
      "| the|20923|\n",
      "| and|16606|\n",
      "|  to|13492|\n",
      "|  of|12866|\n",
      "|that| 7164|\n",
      "|   a| 7003|\n",
      "|  in| 6860|\n",
      "|   I| 5756|\n",
      "|  he| 5640|\n",
      "| for| 4534|\n",
      "+----+-----+\n",
      "only showing top 10 rows\n",
      "\n"
     ]
    }
   ],
   "source": [
    "lines_df.select(sql_f.explode(sql_f.split(lines_df.value, ' '))\\\n",
    "        .alias('word')).filter(\"word != ''\").groupBy('word').count().sort('count', ascending = False).show(10)"
   ]
  },
  {
   "cell_type": "code",
   "execution_count": null,
   "id": "05478b6c-4bcf-49c4-8160-5b83d0810373",
   "metadata": {},
   "outputs": [],
   "source": [
    "# el groupby es una agregacion/agrupacion, tienes que hacer una transformacion despues"
   ]
  },
  {
   "cell_type": "code",
   "execution_count": 124,
   "id": "8f64e95a-0a2e-4aee-bfe5-247f9626ea07",
   "metadata": {},
   "outputs": [
    {
     "name": "stdout",
     "output_type": "stream",
     "text": [
      "+-----+---+\n",
      "| name|age|\n",
      "+-----+---+\n",
      "|Ruben| 22|\n",
      "|Paula| 21|\n",
      "+-----+---+\n",
      "\n"
     ]
    }
   ],
   "source": [
    "df.show()"
   ]
  },
  {
   "cell_type": "code",
   "execution_count": 125,
   "id": "a3b690cb-b7fb-4967-ba33-8c09d0f907a7",
   "metadata": {},
   "outputs": [
    {
     "name": "stdout",
     "output_type": "stream",
     "text": [
      "+--------+\n",
      "|avg(age)|\n",
      "+--------+\n",
      "|    21.5|\n",
      "+--------+\n",
      "\n"
     ]
    }
   ],
   "source": [
    "df.agg(sql_f.mean(df.age)).show()"
   ]
  },
  {
   "cell_type": "code",
   "execution_count": 127,
   "id": "60614fcd-25d5-4d0f-8621-cd4de9b72833",
   "metadata": {},
   "outputs": [
    {
     "name": "stdout",
     "output_type": "stream",
     "text": [
      "+----+-----+\n",
      "|word|count|\n",
      "+----+-----+\n",
      "| the|20923|\n",
      "| and|16606|\n",
      "|  to|13492|\n",
      "|  of|12866|\n",
      "|that| 7164|\n",
      "|   a| 7003|\n",
      "|  in| 6860|\n",
      "|   I| 5756|\n",
      "|  he| 5640|\n",
      "| for| 4534|\n",
      "+----+-----+\n",
      "only showing top 10 rows\n",
      "\n"
     ]
    }
   ],
   "source": [
    "lines_df.select(sql_f.explode(sql_f.split(lines_df.value, ' '))\\\n",
    "        .alias('word')).filter(\"word != ''\").groupBy('word').count().sort('count', ascending = False).show(10)"
   ]
  },
  {
   "cell_type": "code",
   "execution_count": 130,
   "id": "afdbbee5-a3e6-49c8-9abd-f7fb2f6aaaee",
   "metadata": {},
   "outputs": [],
   "source": [
    "# import pyspark.pandas as ps\n",
    "# people_ps = df.pandas_api()"
   ]
  },
  {
   "cell_type": "code",
   "execution_count": null,
   "id": "390e989c-699f-4788-a9ec-f035b65afc7a",
   "metadata": {},
   "outputs": [],
   "source": []
  }
 ],
 "metadata": {
  "kernelspec": {
   "display_name": "Python 3 (ipykernel)",
   "language": "python",
   "name": "python3"
  },
  "language_info": {
   "codemirror_mode": {
    "name": "ipython",
    "version": 3
   },
   "file_extension": ".py",
   "mimetype": "text/x-python",
   "name": "python",
   "nbconvert_exporter": "python",
   "pygments_lexer": "ipython3",
   "version": "3.11.6"
  }
 },
 "nbformat": 4,
 "nbformat_minor": 5
}
